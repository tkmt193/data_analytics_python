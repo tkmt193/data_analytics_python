{
 "cells": [
  {
   "cell_type": "code",
   "execution_count": null,
   "metadata": {
    "id": "20kdmFdngzRI"
   },
   "outputs": [],
   "source": []
  },
  {
   "cell_type": "markdown",
   "metadata": {
    "id": "yitOHhgrrncg"
   },
   "source": [
    "# <font color=\"blue\">線形判別分析（課題）</font>\n",
    "\n",
    "この課題では，ある旅行会社の顧客データを使用し，「Fisherの線形判別分析」「SVM」「ロジスティック回帰」を用いた予測を行います．\n",
    "\n",
    "今回のデータセットには，旅行会社の顧客データとして，性別や年収，旅行保険購入の有無などさまざまな変数が含まれています．<br>\n",
    "ここでの目的変数と説明変数は以下のとおりです．\n",
    "\n",
    "目的変数<br>\n",
    "- 旅行保険購入の有無\n",
    "\n",
    "説明変数（7つ）<br>\n",
    "- Age：年齢\n",
    "- GraduateOrNot：大学卒業生かどうか（yes/no）\n",
    "- AnnualIncome：年収\n",
    "- FamilyMembers：同居している家族の人数\n",
    "- ChronicDiseases：慢性疾患（顧客に慢性的な症状があるかどうか）（yes/no）\n",
    "- FrequentFlyer：顧客が頻繁に航空券を予約するかどうか（yes/no）\n",
    "- EverTravelledAbroad：顧客が外国に旅行したことがあるかどうか（yes/no）\n",
    "\n",
    "すなわち，<font color=\"red\">上記の説明変数から「旅行保険購入の有無」を予測する</font>ことを目的とします．<br>\n",
    "なお，「yes/no」の回答はダミー変数に変換して使用します．<br>\n",
    "\n",
    "課題のおおまかな流れは以下のとおりです．<br>\n",
    "\n",
    "1. データのインポートと中身の確認\n",
    "2. 関係式の作成と評価<br>\n",
    "   2.1. Fisherの線形判別分析による分類<br>\n",
    "   2.2. SVMによる分類<br>\n",
    "   2.3. ロジスティック回帰による分類<br>"
   ]
  },
  {
   "cell_type": "markdown",
   "metadata": {
    "id": "yzGFwrNQw268"
   },
   "source": [
    "## <font color=\"blue\">1. データのインポートと中身の確認</font>\n",
    "\n",
    "まずは，Google ドライブをマウントし，旅行会社のデータセット（配布ファイルの\"5-1_5-2_work.xlsx\"）をインポートしてみましょう．<br>\n",
    "データセットはあらかじめ一部加工したものを配布しています．"
   ]
  },
  {
   "cell_type": "markdown",
   "metadata": {
    "id": "Nj_lAwoe7Ur9"
   },
   "source": [
    "<font color=\"blue\">ここは以下のセルをそのまま実行してください．</font><br>"
   ]
  },
  {
   "cell_type": "code",
   "execution_count": null,
   "metadata": {
    "colab": {
     "base_uri": "https://localhost:8080/"
    },
    "executionInfo": {
     "elapsed": 20240,
     "status": "ok",
     "timestamp": 1749988494773,
     "user": {
      "displayName": "塚本育美",
      "userId": "08806102142129474594"
     },
     "user_tz": -540
    },
    "id": "xO2zOMymsWf0",
    "outputId": "5523ab68-7761-4522-cc9b-e96386333c7a"
   },
   "outputs": [
    {
     "name": "stdout",
     "output_type": "stream",
     "text": [
      "Mounted at /content/drive\n",
      "/content/drive/MyDrive/WASEDADS/05\n"
     ]
    }
   ],
   "source": [
    "# Google driveをマウント\n",
    "from google.colab import drive\n",
    "drive.mount('/content/drive')\n",
    "\n",
    "# 作業ディレクトリの移動\n",
    "%cd /content/drive/MyDrive/WASEDADS/05/"
   ]
  },
  {
   "cell_type": "code",
   "execution_count": null,
   "metadata": {
    "id": "myWHhtj0rncj"
   },
   "outputs": [],
   "source": [
    "#　データをインポートする\n",
    "# pandasの関数read_excelを使って「5-1_5-2_work.xlsx」を読み込み，dfという変数に代入\n",
    "import pandas as pd\n",
    "df = pd.read_excel('/content/drive/My Drive/WASEDADS/05/5-1_5-2_work.xlsx')"
   ]
  },
  {
   "cell_type": "markdown",
   "metadata": {
    "id": "5e6QjHHplXnj"
   },
   "source": [
    "`df.head`関数を用いてデータの先頭5行を表示してみましょう．"
   ]
  },
  {
   "cell_type": "code",
   "execution_count": null,
   "metadata": {
    "colab": {
     "base_uri": "https://localhost:8080/",
     "height": 400
    },
    "executionInfo": {
     "elapsed": 62,
     "status": "ok",
     "timestamp": 1749988509088,
     "user": {
      "displayName": "塚本育美",
      "userId": "08806102142129474594"
     },
     "user_tz": -540
    },
    "id": "OvDt2DUglhUp",
    "outputId": "22edd31b-792b-4cb7-f264-c4cbad7a304c"
   },
   "outputs": [
    {
     "data": {
      "application/vnd.google.colaboratory.intrinsic+json": {
       "summary": "{\n  \"name\": \"df\",\n  \"rows\": 1500,\n  \"fields\": [\n    {\n      \"column\": \"Age\",\n      \"properties\": {\n        \"dtype\": \"number\",\n        \"std\": 2,\n        \"min\": 25,\n        \"max\": 35,\n        \"num_unique_values\": 11,\n        \"samples\": [\n          35,\n          31,\n          29\n        ],\n        \"semantic_type\": \"\",\n        \"description\": \"\"\n      }\n    },\n    {\n      \"column\": \"Employment Type\",\n      \"properties\": {\n        \"dtype\": \"category\",\n        \"num_unique_values\": 2,\n        \"samples\": [\n          \"Private Sector/Self Employed\",\n          \"Government Sector\"\n        ],\n        \"semantic_type\": \"\",\n        \"description\": \"\"\n      }\n    },\n    {\n      \"column\": \"GraduateOrNot\",\n      \"properties\": {\n        \"dtype\": \"category\",\n        \"num_unique_values\": 2,\n        \"samples\": [\n          \"No\",\n          \"Yes\"\n        ],\n        \"semantic_type\": \"\",\n        \"description\": \"\"\n      }\n    },\n    {\n      \"column\": \"AnnualIncome\",\n      \"properties\": {\n        \"dtype\": \"number\",\n        \"std\": 384508,\n        \"min\": 300000,\n        \"max\": 1800000,\n        \"num_unique_values\": 30,\n        \"samples\": [\n          1650000,\n          1200000\n        ],\n        \"semantic_type\": \"\",\n        \"description\": \"\"\n      }\n    },\n    {\n      \"column\": \"FamilyMembers\",\n      \"properties\": {\n        \"dtype\": \"number\",\n        \"std\": 1,\n        \"min\": 2,\n        \"max\": 9,\n        \"num_unique_values\": 8,\n        \"samples\": [\n          7,\n          9\n        ],\n        \"semantic_type\": \"\",\n        \"description\": \"\"\n      }\n    },\n    {\n      \"column\": \"ChronicDiseases\",\n      \"properties\": {\n        \"dtype\": \"number\",\n        \"std\": 0,\n        \"min\": 0,\n        \"max\": 1,\n        \"num_unique_values\": 2,\n        \"samples\": [\n          0,\n          1\n        ],\n        \"semantic_type\": \"\",\n        \"description\": \"\"\n      }\n    },\n    {\n      \"column\": \"FrequentFlyer\",\n      \"properties\": {\n        \"dtype\": \"category\",\n        \"num_unique_values\": 2,\n        \"samples\": [\n          \"Yes\",\n          \"No\"\n        ],\n        \"semantic_type\": \"\",\n        \"description\": \"\"\n      }\n    },\n    {\n      \"column\": \"EverTravelledAbroad\",\n      \"properties\": {\n        \"dtype\": \"category\",\n        \"num_unique_values\": 2,\n        \"samples\": [\n          \"Yes\",\n          \"No\"\n        ],\n        \"semantic_type\": \"\",\n        \"description\": \"\"\n      }\n    },\n    {\n      \"column\": \"TravelInsurance\",\n      \"properties\": {\n        \"dtype\": \"number\",\n        \"std\": 0,\n        \"min\": 0,\n        \"max\": 1,\n        \"num_unique_values\": 2,\n        \"samples\": [\n          1,\n          0\n        ],\n        \"semantic_type\": \"\",\n        \"description\": \"\"\n      }\n    }\n  ]\n}",
       "type": "dataframe",
       "variable_name": "df"
      },
      "text/html": [
       "\n",
       "  <div id=\"df-bef9d2b1-4dd0-4cf4-8cdc-9241cb1e5dc6\" class=\"colab-df-container\">\n",
       "    <div>\n",
       "<style scoped>\n",
       "    .dataframe tbody tr th:only-of-type {\n",
       "        vertical-align: middle;\n",
       "    }\n",
       "\n",
       "    .dataframe tbody tr th {\n",
       "        vertical-align: top;\n",
       "    }\n",
       "\n",
       "    .dataframe thead th {\n",
       "        text-align: right;\n",
       "    }\n",
       "</style>\n",
       "<table border=\"1\" class=\"dataframe\">\n",
       "  <thead>\n",
       "    <tr style=\"text-align: right;\">\n",
       "      <th></th>\n",
       "      <th>Age</th>\n",
       "      <th>Employment Type</th>\n",
       "      <th>GraduateOrNot</th>\n",
       "      <th>AnnualIncome</th>\n",
       "      <th>FamilyMembers</th>\n",
       "      <th>ChronicDiseases</th>\n",
       "      <th>FrequentFlyer</th>\n",
       "      <th>EverTravelledAbroad</th>\n",
       "      <th>TravelInsurance</th>\n",
       "    </tr>\n",
       "  </thead>\n",
       "  <tbody>\n",
       "    <tr>\n",
       "      <th>0</th>\n",
       "      <td>31</td>\n",
       "      <td>Government Sector</td>\n",
       "      <td>Yes</td>\n",
       "      <td>400000</td>\n",
       "      <td>6</td>\n",
       "      <td>1</td>\n",
       "      <td>No</td>\n",
       "      <td>No</td>\n",
       "      <td>0</td>\n",
       "    </tr>\n",
       "    <tr>\n",
       "      <th>1</th>\n",
       "      <td>31</td>\n",
       "      <td>Private Sector/Self Employed</td>\n",
       "      <td>Yes</td>\n",
       "      <td>1250000</td>\n",
       "      <td>7</td>\n",
       "      <td>0</td>\n",
       "      <td>No</td>\n",
       "      <td>No</td>\n",
       "      <td>0</td>\n",
       "    </tr>\n",
       "    <tr>\n",
       "      <th>2</th>\n",
       "      <td>28</td>\n",
       "      <td>Private Sector/Self Employed</td>\n",
       "      <td>Yes</td>\n",
       "      <td>700000</td>\n",
       "      <td>3</td>\n",
       "      <td>1</td>\n",
       "      <td>No</td>\n",
       "      <td>No</td>\n",
       "      <td>0</td>\n",
       "    </tr>\n",
       "    <tr>\n",
       "      <th>3</th>\n",
       "      <td>28</td>\n",
       "      <td>Private Sector/Self Employed</td>\n",
       "      <td>Yes</td>\n",
       "      <td>700000</td>\n",
       "      <td>8</td>\n",
       "      <td>1</td>\n",
       "      <td>Yes</td>\n",
       "      <td>No</td>\n",
       "      <td>0</td>\n",
       "    </tr>\n",
       "    <tr>\n",
       "      <th>4</th>\n",
       "      <td>25</td>\n",
       "      <td>Private Sector/Self Employed</td>\n",
       "      <td>No</td>\n",
       "      <td>1150000</td>\n",
       "      <td>4</td>\n",
       "      <td>0</td>\n",
       "      <td>No</td>\n",
       "      <td>No</td>\n",
       "      <td>0</td>\n",
       "    </tr>\n",
       "  </tbody>\n",
       "</table>\n",
       "</div>\n",
       "    <div class=\"colab-df-buttons\">\n",
       "\n",
       "  <div class=\"colab-df-container\">\n",
       "    <button class=\"colab-df-convert\" onclick=\"convertToInteractive('df-bef9d2b1-4dd0-4cf4-8cdc-9241cb1e5dc6')\"\n",
       "            title=\"Convert this dataframe to an interactive table.\"\n",
       "            style=\"display:none;\">\n",
       "\n",
       "  <svg xmlns=\"http://www.w3.org/2000/svg\" height=\"24px\" viewBox=\"0 -960 960 960\">\n",
       "    <path d=\"M120-120v-720h720v720H120Zm60-500h600v-160H180v160Zm220 220h160v-160H400v160Zm0 220h160v-160H400v160ZM180-400h160v-160H180v160Zm440 0h160v-160H620v160ZM180-180h160v-160H180v160Zm440 0h160v-160H620v160Z\"/>\n",
       "  </svg>\n",
       "    </button>\n",
       "\n",
       "  <style>\n",
       "    .colab-df-container {\n",
       "      display:flex;\n",
       "      gap: 12px;\n",
       "    }\n",
       "\n",
       "    .colab-df-convert {\n",
       "      background-color: #E8F0FE;\n",
       "      border: none;\n",
       "      border-radius: 50%;\n",
       "      cursor: pointer;\n",
       "      display: none;\n",
       "      fill: #1967D2;\n",
       "      height: 32px;\n",
       "      padding: 0 0 0 0;\n",
       "      width: 32px;\n",
       "    }\n",
       "\n",
       "    .colab-df-convert:hover {\n",
       "      background-color: #E2EBFA;\n",
       "      box-shadow: 0px 1px 2px rgba(60, 64, 67, 0.3), 0px 1px 3px 1px rgba(60, 64, 67, 0.15);\n",
       "      fill: #174EA6;\n",
       "    }\n",
       "\n",
       "    .colab-df-buttons div {\n",
       "      margin-bottom: 4px;\n",
       "    }\n",
       "\n",
       "    [theme=dark] .colab-df-convert {\n",
       "      background-color: #3B4455;\n",
       "      fill: #D2E3FC;\n",
       "    }\n",
       "\n",
       "    [theme=dark] .colab-df-convert:hover {\n",
       "      background-color: #434B5C;\n",
       "      box-shadow: 0px 1px 3px 1px rgba(0, 0, 0, 0.15);\n",
       "      filter: drop-shadow(0px 1px 2px rgba(0, 0, 0, 0.3));\n",
       "      fill: #FFFFFF;\n",
       "    }\n",
       "  </style>\n",
       "\n",
       "    <script>\n",
       "      const buttonEl =\n",
       "        document.querySelector('#df-bef9d2b1-4dd0-4cf4-8cdc-9241cb1e5dc6 button.colab-df-convert');\n",
       "      buttonEl.style.display =\n",
       "        google.colab.kernel.accessAllowed ? 'block' : 'none';\n",
       "\n",
       "      async function convertToInteractive(key) {\n",
       "        const element = document.querySelector('#df-bef9d2b1-4dd0-4cf4-8cdc-9241cb1e5dc6');\n",
       "        const dataTable =\n",
       "          await google.colab.kernel.invokeFunction('convertToInteractive',\n",
       "                                                    [key], {});\n",
       "        if (!dataTable) return;\n",
       "\n",
       "        const docLinkHtml = 'Like what you see? Visit the ' +\n",
       "          '<a target=\"_blank\" href=https://colab.research.google.com/notebooks/data_table.ipynb>data table notebook</a>'\n",
       "          + ' to learn more about interactive tables.';\n",
       "        element.innerHTML = '';\n",
       "        dataTable['output_type'] = 'display_data';\n",
       "        await google.colab.output.renderOutput(dataTable, element);\n",
       "        const docLink = document.createElement('div');\n",
       "        docLink.innerHTML = docLinkHtml;\n",
       "        element.appendChild(docLink);\n",
       "      }\n",
       "    </script>\n",
       "  </div>\n",
       "\n",
       "\n",
       "    <div id=\"df-12516c28-1cd1-47c9-955d-5583588d9bef\">\n",
       "      <button class=\"colab-df-quickchart\" onclick=\"quickchart('df-12516c28-1cd1-47c9-955d-5583588d9bef')\"\n",
       "                title=\"Suggest charts\"\n",
       "                style=\"display:none;\">\n",
       "\n",
       "<svg xmlns=\"http://www.w3.org/2000/svg\" height=\"24px\"viewBox=\"0 0 24 24\"\n",
       "     width=\"24px\">\n",
       "    <g>\n",
       "        <path d=\"M19 3H5c-1.1 0-2 .9-2 2v14c0 1.1.9 2 2 2h14c1.1 0 2-.9 2-2V5c0-1.1-.9-2-2-2zM9 17H7v-7h2v7zm4 0h-2V7h2v10zm4 0h-2v-4h2v4z\"/>\n",
       "    </g>\n",
       "</svg>\n",
       "      </button>\n",
       "\n",
       "<style>\n",
       "  .colab-df-quickchart {\n",
       "      --bg-color: #E8F0FE;\n",
       "      --fill-color: #1967D2;\n",
       "      --hover-bg-color: #E2EBFA;\n",
       "      --hover-fill-color: #174EA6;\n",
       "      --disabled-fill-color: #AAA;\n",
       "      --disabled-bg-color: #DDD;\n",
       "  }\n",
       "\n",
       "  [theme=dark] .colab-df-quickchart {\n",
       "      --bg-color: #3B4455;\n",
       "      --fill-color: #D2E3FC;\n",
       "      --hover-bg-color: #434B5C;\n",
       "      --hover-fill-color: #FFFFFF;\n",
       "      --disabled-bg-color: #3B4455;\n",
       "      --disabled-fill-color: #666;\n",
       "  }\n",
       "\n",
       "  .colab-df-quickchart {\n",
       "    background-color: var(--bg-color);\n",
       "    border: none;\n",
       "    border-radius: 50%;\n",
       "    cursor: pointer;\n",
       "    display: none;\n",
       "    fill: var(--fill-color);\n",
       "    height: 32px;\n",
       "    padding: 0;\n",
       "    width: 32px;\n",
       "  }\n",
       "\n",
       "  .colab-df-quickchart:hover {\n",
       "    background-color: var(--hover-bg-color);\n",
       "    box-shadow: 0 1px 2px rgba(60, 64, 67, 0.3), 0 1px 3px 1px rgba(60, 64, 67, 0.15);\n",
       "    fill: var(--button-hover-fill-color);\n",
       "  }\n",
       "\n",
       "  .colab-df-quickchart-complete:disabled,\n",
       "  .colab-df-quickchart-complete:disabled:hover {\n",
       "    background-color: var(--disabled-bg-color);\n",
       "    fill: var(--disabled-fill-color);\n",
       "    box-shadow: none;\n",
       "  }\n",
       "\n",
       "  .colab-df-spinner {\n",
       "    border: 2px solid var(--fill-color);\n",
       "    border-color: transparent;\n",
       "    border-bottom-color: var(--fill-color);\n",
       "    animation:\n",
       "      spin 1s steps(1) infinite;\n",
       "  }\n",
       "\n",
       "  @keyframes spin {\n",
       "    0% {\n",
       "      border-color: transparent;\n",
       "      border-bottom-color: var(--fill-color);\n",
       "      border-left-color: var(--fill-color);\n",
       "    }\n",
       "    20% {\n",
       "      border-color: transparent;\n",
       "      border-left-color: var(--fill-color);\n",
       "      border-top-color: var(--fill-color);\n",
       "    }\n",
       "    30% {\n",
       "      border-color: transparent;\n",
       "      border-left-color: var(--fill-color);\n",
       "      border-top-color: var(--fill-color);\n",
       "      border-right-color: var(--fill-color);\n",
       "    }\n",
       "    40% {\n",
       "      border-color: transparent;\n",
       "      border-right-color: var(--fill-color);\n",
       "      border-top-color: var(--fill-color);\n",
       "    }\n",
       "    60% {\n",
       "      border-color: transparent;\n",
       "      border-right-color: var(--fill-color);\n",
       "    }\n",
       "    80% {\n",
       "      border-color: transparent;\n",
       "      border-right-color: var(--fill-color);\n",
       "      border-bottom-color: var(--fill-color);\n",
       "    }\n",
       "    90% {\n",
       "      border-color: transparent;\n",
       "      border-bottom-color: var(--fill-color);\n",
       "    }\n",
       "  }\n",
       "</style>\n",
       "\n",
       "      <script>\n",
       "        async function quickchart(key) {\n",
       "          const quickchartButtonEl =\n",
       "            document.querySelector('#' + key + ' button');\n",
       "          quickchartButtonEl.disabled = true;  // To prevent multiple clicks.\n",
       "          quickchartButtonEl.classList.add('colab-df-spinner');\n",
       "          try {\n",
       "            const charts = await google.colab.kernel.invokeFunction(\n",
       "                'suggestCharts', [key], {});\n",
       "          } catch (error) {\n",
       "            console.error('Error during call to suggestCharts:', error);\n",
       "          }\n",
       "          quickchartButtonEl.classList.remove('colab-df-spinner');\n",
       "          quickchartButtonEl.classList.add('colab-df-quickchart-complete');\n",
       "        }\n",
       "        (() => {\n",
       "          let quickchartButtonEl =\n",
       "            document.querySelector('#df-12516c28-1cd1-47c9-955d-5583588d9bef button');\n",
       "          quickchartButtonEl.style.display =\n",
       "            google.colab.kernel.accessAllowed ? 'block' : 'none';\n",
       "        })();\n",
       "      </script>\n",
       "    </div>\n",
       "\n",
       "    </div>\n",
       "  </div>\n"
      ],
      "text/plain": [
       "   Age               Employment Type GraduateOrNot  AnnualIncome  \\\n",
       "0   31             Government Sector           Yes        400000   \n",
       "1   31  Private Sector/Self Employed           Yes       1250000   \n",
       "2   28  Private Sector/Self Employed           Yes        700000   \n",
       "3   28  Private Sector/Self Employed           Yes        700000   \n",
       "4   25  Private Sector/Self Employed            No       1150000   \n",
       "\n",
       "   FamilyMembers  ChronicDiseases FrequentFlyer EverTravelledAbroad  \\\n",
       "0              6                1            No                  No   \n",
       "1              7                0            No                  No   \n",
       "2              3                1            No                  No   \n",
       "3              8                1           Yes                  No   \n",
       "4              4                0            No                  No   \n",
       "\n",
       "   TravelInsurance  \n",
       "0                0  \n",
       "1                0  \n",
       "2                0  \n",
       "3                0  \n",
       "4                0  "
      ]
     },
     "execution_count": 3,
     "metadata": {},
     "output_type": "execute_result"
    }
   ],
   "source": [
    "# 先頭5行の表示\n",
    "df.head()"
   ]
  },
  {
   "cell_type": "markdown",
   "metadata": {
    "id": "xWfL6ubArnck"
   },
   "source": [
    "### データセット（各列）の内容\n",
    "\n",
    "データセットの各列の意味は以下のとおりです．<br>\n",
    "\n",
    "<font color=\"blue\">青字</font> = 目的変数<br>\n",
    "<font color=\"red\">赤字</font> = 説明変数<br>\n",
    "\n",
    "1.<font color=\"red\"> Age：年齢</font><br>\n",
    "2.<font color=\"black\"> Employment Type：雇用形態<br>\n",
    "3.<font color=\"red\"> GraduateOrNot：大学卒業生かどうか（yes/no）</font><br>\n",
    "4.<font color=\"red\"> AnnualIncome：年収（インディアンルピー）</font><br>\n",
    "5.<font color=\"red\"> FamilyMembers：同居している家族の人数</font><br>\n",
    "6.<font color=\"red\"> ChronicDiseases：慢性疾患（顧客に慢性的な症状があるかどうか）（1=yes/0=no）</font><br>\n",
    "7.<font color=\"red\"> FrequentFlyer：顧客が頻繁に航空券を予約するかどうか（yes/no）</font><br>\n",
    "8.<font color=\"red\"> EverTravelledAbroad：顧客が外国に旅行したことがあるかどうか（yes/no）</font><br>\n",
    "9.<font color=\"blue\"> TravelInsurance：顧客が旅行保険を購入したかどうか（1=yes/0=no）</font><br>"
   ]
  },
  {
   "cell_type": "markdown",
   "metadata": {
    "id": "tXmW7WFaw269"
   },
   "source": [
    "### データの概要\n",
    "\n",
    "次に，`df.info`関数を使って，データ各列の情報を取得してみましょう．"
   ]
  },
  {
   "cell_type": "code",
   "execution_count": null,
   "metadata": {
    "colab": {
     "base_uri": "https://localhost:8080/"
    },
    "executionInfo": {
     "elapsed": 8,
     "status": "ok",
     "timestamp": 1749988522331,
     "user": {
      "displayName": "塚本育美",
      "userId": "08806102142129474594"
     },
     "user_tz": -540
    },
    "id": "1AkrBN9zrnck",
    "outputId": "ab613998-5e04-4c07-802f-0e7ae318ac78"
   },
   "outputs": [
    {
     "name": "stdout",
     "output_type": "stream",
     "text": [
      "<class 'pandas.core.frame.DataFrame'>\n",
      "RangeIndex: 1500 entries, 0 to 1499\n",
      "Data columns (total 9 columns):\n",
      " #   Column               Non-Null Count  Dtype \n",
      "---  ------               --------------  ----- \n",
      " 0   Age                  1500 non-null   int64 \n",
      " 1   Employment Type      1500 non-null   object\n",
      " 2   GraduateOrNot        1500 non-null   object\n",
      " 3   AnnualIncome         1500 non-null   int64 \n",
      " 4   FamilyMembers        1500 non-null   int64 \n",
      " 5   ChronicDiseases      1500 non-null   int64 \n",
      " 6   FrequentFlyer        1500 non-null   object\n",
      " 7   EverTravelledAbroad  1500 non-null   object\n",
      " 8   TravelInsurance      1500 non-null   int64 \n",
      "dtypes: int64(5), object(4)\n",
      "memory usage: 105.6+ KB\n"
     ]
    }
   ],
   "source": [
    "#　データの概要の確認\n",
    "df.info()"
   ]
  },
  {
   "cell_type": "markdown",
   "metadata": {
    "id": "Onyb7dXJrnck"
   },
   "source": [
    "実行結果から，データの型にはint型，object型があることがわかります．<br>\n",
    "また，<font color=\"blue\">目的変数</font>はすでに0と1で入力してあり，データ型もint型になっていますので，ここでの変換は必要ありません．<br>\n",
    "Non-Null Countは全体の行数と一致しているので，Null（欠測値）が存在しないこともわかります．<br>"
   ]
  },
  {
   "cell_type": "markdown",
   "metadata": {
    "id": "_XKahZDlz2O4"
   },
   "source": [
    "### object型説明変数の変換\n",
    "\n",
    "説明変数は，「`GraduateOrNot`」，「`FrequentFlyer`」，「`EverTravelledAbroad`」がobject型になっていますので，<br>\n",
    "`pd.get_dummies`関数を用いてダミー変数に変換しましょう<br>\n",
    "オプションに`drop_first`を`True`に設定する（`drop_first=True`）ことで，カテゴリの列を1つ削除したダミー変数を作成することができます．<br>\n",
    "ダミー変数化された説明変数は，自動的に列の後ろに追加されます．<br>\n",
    "\n",
    "<font color=\"blue\">ここは以下のセルをそのまま実行してください．</font><br>"
   ]
  },
  {
   "cell_type": "code",
   "execution_count": null,
   "metadata": {
    "colab": {
     "base_uri": "https://localhost:8080/",
     "height": 400
    },
    "executionInfo": {
     "elapsed": 63,
     "status": "ok",
     "timestamp": 1749988539004,
     "user": {
      "displayName": "塚本育美",
      "userId": "08806102142129474594"
     },
     "user_tz": -540
    },
    "id": "4uXIfnsgrncl",
    "outputId": "55ff9e6b-d5fe-4a75-b951-867b50a29c13"
   },
   "outputs": [
    {
     "data": {
      "application/vnd.google.colaboratory.intrinsic+json": {
       "summary": "{\n  \"name\": \"df_dummies\",\n  \"rows\": 1500,\n  \"fields\": [\n    {\n      \"column\": \"Age\",\n      \"properties\": {\n        \"dtype\": \"number\",\n        \"std\": 2,\n        \"min\": 25,\n        \"max\": 35,\n        \"num_unique_values\": 11,\n        \"samples\": [\n          35,\n          31,\n          29\n        ],\n        \"semantic_type\": \"\",\n        \"description\": \"\"\n      }\n    },\n    {\n      \"column\": \"Employment Type\",\n      \"properties\": {\n        \"dtype\": \"category\",\n        \"num_unique_values\": 2,\n        \"samples\": [\n          \"Private Sector/Self Employed\",\n          \"Government Sector\"\n        ],\n        \"semantic_type\": \"\",\n        \"description\": \"\"\n      }\n    },\n    {\n      \"column\": \"AnnualIncome\",\n      \"properties\": {\n        \"dtype\": \"number\",\n        \"std\": 384508,\n        \"min\": 300000,\n        \"max\": 1800000,\n        \"num_unique_values\": 30,\n        \"samples\": [\n          1650000,\n          1200000\n        ],\n        \"semantic_type\": \"\",\n        \"description\": \"\"\n      }\n    },\n    {\n      \"column\": \"FamilyMembers\",\n      \"properties\": {\n        \"dtype\": \"number\",\n        \"std\": 1,\n        \"min\": 2,\n        \"max\": 9,\n        \"num_unique_values\": 8,\n        \"samples\": [\n          7,\n          9\n        ],\n        \"semantic_type\": \"\",\n        \"description\": \"\"\n      }\n    },\n    {\n      \"column\": \"ChronicDiseases\",\n      \"properties\": {\n        \"dtype\": \"number\",\n        \"std\": 0,\n        \"min\": 0,\n        \"max\": 1,\n        \"num_unique_values\": 2,\n        \"samples\": [\n          0,\n          1\n        ],\n        \"semantic_type\": \"\",\n        \"description\": \"\"\n      }\n    },\n    {\n      \"column\": \"TravelInsurance\",\n      \"properties\": {\n        \"dtype\": \"number\",\n        \"std\": 0,\n        \"min\": 0,\n        \"max\": 1,\n        \"num_unique_values\": 2,\n        \"samples\": [\n          1,\n          0\n        ],\n        \"semantic_type\": \"\",\n        \"description\": \"\"\n      }\n    },\n    {\n      \"column\": \"GraduateOrNot_Yes\",\n      \"properties\": {\n        \"dtype\": \"boolean\",\n        \"num_unique_values\": 2,\n        \"samples\": [\n          false,\n          true\n        ],\n        \"semantic_type\": \"\",\n        \"description\": \"\"\n      }\n    },\n    {\n      \"column\": \"FrequentFlyer_Yes\",\n      \"properties\": {\n        \"dtype\": \"boolean\",\n        \"num_unique_values\": 2,\n        \"samples\": [\n          true,\n          false\n        ],\n        \"semantic_type\": \"\",\n        \"description\": \"\"\n      }\n    },\n    {\n      \"column\": \"EverTravelledAbroad_Yes\",\n      \"properties\": {\n        \"dtype\": \"boolean\",\n        \"num_unique_values\": 2,\n        \"samples\": [\n          true,\n          false\n        ],\n        \"semantic_type\": \"\",\n        \"description\": \"\"\n      }\n    }\n  ]\n}",
       "type": "dataframe",
       "variable_name": "df_dummies"
      },
      "text/html": [
       "\n",
       "  <div id=\"df-c627140f-37d2-4649-8749-985a22b91f8b\" class=\"colab-df-container\">\n",
       "    <div>\n",
       "<style scoped>\n",
       "    .dataframe tbody tr th:only-of-type {\n",
       "        vertical-align: middle;\n",
       "    }\n",
       "\n",
       "    .dataframe tbody tr th {\n",
       "        vertical-align: top;\n",
       "    }\n",
       "\n",
       "    .dataframe thead th {\n",
       "        text-align: right;\n",
       "    }\n",
       "</style>\n",
       "<table border=\"1\" class=\"dataframe\">\n",
       "  <thead>\n",
       "    <tr style=\"text-align: right;\">\n",
       "      <th></th>\n",
       "      <th>Age</th>\n",
       "      <th>Employment Type</th>\n",
       "      <th>AnnualIncome</th>\n",
       "      <th>FamilyMembers</th>\n",
       "      <th>ChronicDiseases</th>\n",
       "      <th>TravelInsurance</th>\n",
       "      <th>GraduateOrNot_Yes</th>\n",
       "      <th>FrequentFlyer_Yes</th>\n",
       "      <th>EverTravelledAbroad_Yes</th>\n",
       "    </tr>\n",
       "  </thead>\n",
       "  <tbody>\n",
       "    <tr>\n",
       "      <th>0</th>\n",
       "      <td>31</td>\n",
       "      <td>Government Sector</td>\n",
       "      <td>400000</td>\n",
       "      <td>6</td>\n",
       "      <td>1</td>\n",
       "      <td>0</td>\n",
       "      <td>True</td>\n",
       "      <td>False</td>\n",
       "      <td>False</td>\n",
       "    </tr>\n",
       "    <tr>\n",
       "      <th>1</th>\n",
       "      <td>31</td>\n",
       "      <td>Private Sector/Self Employed</td>\n",
       "      <td>1250000</td>\n",
       "      <td>7</td>\n",
       "      <td>0</td>\n",
       "      <td>0</td>\n",
       "      <td>True</td>\n",
       "      <td>False</td>\n",
       "      <td>False</td>\n",
       "    </tr>\n",
       "    <tr>\n",
       "      <th>2</th>\n",
       "      <td>28</td>\n",
       "      <td>Private Sector/Self Employed</td>\n",
       "      <td>700000</td>\n",
       "      <td>3</td>\n",
       "      <td>1</td>\n",
       "      <td>0</td>\n",
       "      <td>True</td>\n",
       "      <td>False</td>\n",
       "      <td>False</td>\n",
       "    </tr>\n",
       "    <tr>\n",
       "      <th>3</th>\n",
       "      <td>28</td>\n",
       "      <td>Private Sector/Self Employed</td>\n",
       "      <td>700000</td>\n",
       "      <td>8</td>\n",
       "      <td>1</td>\n",
       "      <td>0</td>\n",
       "      <td>True</td>\n",
       "      <td>True</td>\n",
       "      <td>False</td>\n",
       "    </tr>\n",
       "    <tr>\n",
       "      <th>4</th>\n",
       "      <td>25</td>\n",
       "      <td>Private Sector/Self Employed</td>\n",
       "      <td>1150000</td>\n",
       "      <td>4</td>\n",
       "      <td>0</td>\n",
       "      <td>0</td>\n",
       "      <td>False</td>\n",
       "      <td>False</td>\n",
       "      <td>False</td>\n",
       "    </tr>\n",
       "  </tbody>\n",
       "</table>\n",
       "</div>\n",
       "    <div class=\"colab-df-buttons\">\n",
       "\n",
       "  <div class=\"colab-df-container\">\n",
       "    <button class=\"colab-df-convert\" onclick=\"convertToInteractive('df-c627140f-37d2-4649-8749-985a22b91f8b')\"\n",
       "            title=\"Convert this dataframe to an interactive table.\"\n",
       "            style=\"display:none;\">\n",
       "\n",
       "  <svg xmlns=\"http://www.w3.org/2000/svg\" height=\"24px\" viewBox=\"0 -960 960 960\">\n",
       "    <path d=\"M120-120v-720h720v720H120Zm60-500h600v-160H180v160Zm220 220h160v-160H400v160Zm0 220h160v-160H400v160ZM180-400h160v-160H180v160Zm440 0h160v-160H620v160ZM180-180h160v-160H180v160Zm440 0h160v-160H620v160Z\"/>\n",
       "  </svg>\n",
       "    </button>\n",
       "\n",
       "  <style>\n",
       "    .colab-df-container {\n",
       "      display:flex;\n",
       "      gap: 12px;\n",
       "    }\n",
       "\n",
       "    .colab-df-convert {\n",
       "      background-color: #E8F0FE;\n",
       "      border: none;\n",
       "      border-radius: 50%;\n",
       "      cursor: pointer;\n",
       "      display: none;\n",
       "      fill: #1967D2;\n",
       "      height: 32px;\n",
       "      padding: 0 0 0 0;\n",
       "      width: 32px;\n",
       "    }\n",
       "\n",
       "    .colab-df-convert:hover {\n",
       "      background-color: #E2EBFA;\n",
       "      box-shadow: 0px 1px 2px rgba(60, 64, 67, 0.3), 0px 1px 3px 1px rgba(60, 64, 67, 0.15);\n",
       "      fill: #174EA6;\n",
       "    }\n",
       "\n",
       "    .colab-df-buttons div {\n",
       "      margin-bottom: 4px;\n",
       "    }\n",
       "\n",
       "    [theme=dark] .colab-df-convert {\n",
       "      background-color: #3B4455;\n",
       "      fill: #D2E3FC;\n",
       "    }\n",
       "\n",
       "    [theme=dark] .colab-df-convert:hover {\n",
       "      background-color: #434B5C;\n",
       "      box-shadow: 0px 1px 3px 1px rgba(0, 0, 0, 0.15);\n",
       "      filter: drop-shadow(0px 1px 2px rgba(0, 0, 0, 0.3));\n",
       "      fill: #FFFFFF;\n",
       "    }\n",
       "  </style>\n",
       "\n",
       "    <script>\n",
       "      const buttonEl =\n",
       "        document.querySelector('#df-c627140f-37d2-4649-8749-985a22b91f8b button.colab-df-convert');\n",
       "      buttonEl.style.display =\n",
       "        google.colab.kernel.accessAllowed ? 'block' : 'none';\n",
       "\n",
       "      async function convertToInteractive(key) {\n",
       "        const element = document.querySelector('#df-c627140f-37d2-4649-8749-985a22b91f8b');\n",
       "        const dataTable =\n",
       "          await google.colab.kernel.invokeFunction('convertToInteractive',\n",
       "                                                    [key], {});\n",
       "        if (!dataTable) return;\n",
       "\n",
       "        const docLinkHtml = 'Like what you see? Visit the ' +\n",
       "          '<a target=\"_blank\" href=https://colab.research.google.com/notebooks/data_table.ipynb>data table notebook</a>'\n",
       "          + ' to learn more about interactive tables.';\n",
       "        element.innerHTML = '';\n",
       "        dataTable['output_type'] = 'display_data';\n",
       "        await google.colab.output.renderOutput(dataTable, element);\n",
       "        const docLink = document.createElement('div');\n",
       "        docLink.innerHTML = docLinkHtml;\n",
       "        element.appendChild(docLink);\n",
       "      }\n",
       "    </script>\n",
       "  </div>\n",
       "\n",
       "\n",
       "    <div id=\"df-4bd83217-4fd4-4107-b654-35d7401ea00a\">\n",
       "      <button class=\"colab-df-quickchart\" onclick=\"quickchart('df-4bd83217-4fd4-4107-b654-35d7401ea00a')\"\n",
       "                title=\"Suggest charts\"\n",
       "                style=\"display:none;\">\n",
       "\n",
       "<svg xmlns=\"http://www.w3.org/2000/svg\" height=\"24px\"viewBox=\"0 0 24 24\"\n",
       "     width=\"24px\">\n",
       "    <g>\n",
       "        <path d=\"M19 3H5c-1.1 0-2 .9-2 2v14c0 1.1.9 2 2 2h14c1.1 0 2-.9 2-2V5c0-1.1-.9-2-2-2zM9 17H7v-7h2v7zm4 0h-2V7h2v10zm4 0h-2v-4h2v4z\"/>\n",
       "    </g>\n",
       "</svg>\n",
       "      </button>\n",
       "\n",
       "<style>\n",
       "  .colab-df-quickchart {\n",
       "      --bg-color: #E8F0FE;\n",
       "      --fill-color: #1967D2;\n",
       "      --hover-bg-color: #E2EBFA;\n",
       "      --hover-fill-color: #174EA6;\n",
       "      --disabled-fill-color: #AAA;\n",
       "      --disabled-bg-color: #DDD;\n",
       "  }\n",
       "\n",
       "  [theme=dark] .colab-df-quickchart {\n",
       "      --bg-color: #3B4455;\n",
       "      --fill-color: #D2E3FC;\n",
       "      --hover-bg-color: #434B5C;\n",
       "      --hover-fill-color: #FFFFFF;\n",
       "      --disabled-bg-color: #3B4455;\n",
       "      --disabled-fill-color: #666;\n",
       "  }\n",
       "\n",
       "  .colab-df-quickchart {\n",
       "    background-color: var(--bg-color);\n",
       "    border: none;\n",
       "    border-radius: 50%;\n",
       "    cursor: pointer;\n",
       "    display: none;\n",
       "    fill: var(--fill-color);\n",
       "    height: 32px;\n",
       "    padding: 0;\n",
       "    width: 32px;\n",
       "  }\n",
       "\n",
       "  .colab-df-quickchart:hover {\n",
       "    background-color: var(--hover-bg-color);\n",
       "    box-shadow: 0 1px 2px rgba(60, 64, 67, 0.3), 0 1px 3px 1px rgba(60, 64, 67, 0.15);\n",
       "    fill: var(--button-hover-fill-color);\n",
       "  }\n",
       "\n",
       "  .colab-df-quickchart-complete:disabled,\n",
       "  .colab-df-quickchart-complete:disabled:hover {\n",
       "    background-color: var(--disabled-bg-color);\n",
       "    fill: var(--disabled-fill-color);\n",
       "    box-shadow: none;\n",
       "  }\n",
       "\n",
       "  .colab-df-spinner {\n",
       "    border: 2px solid var(--fill-color);\n",
       "    border-color: transparent;\n",
       "    border-bottom-color: var(--fill-color);\n",
       "    animation:\n",
       "      spin 1s steps(1) infinite;\n",
       "  }\n",
       "\n",
       "  @keyframes spin {\n",
       "    0% {\n",
       "      border-color: transparent;\n",
       "      border-bottom-color: var(--fill-color);\n",
       "      border-left-color: var(--fill-color);\n",
       "    }\n",
       "    20% {\n",
       "      border-color: transparent;\n",
       "      border-left-color: var(--fill-color);\n",
       "      border-top-color: var(--fill-color);\n",
       "    }\n",
       "    30% {\n",
       "      border-color: transparent;\n",
       "      border-left-color: var(--fill-color);\n",
       "      border-top-color: var(--fill-color);\n",
       "      border-right-color: var(--fill-color);\n",
       "    }\n",
       "    40% {\n",
       "      border-color: transparent;\n",
       "      border-right-color: var(--fill-color);\n",
       "      border-top-color: var(--fill-color);\n",
       "    }\n",
       "    60% {\n",
       "      border-color: transparent;\n",
       "      border-right-color: var(--fill-color);\n",
       "    }\n",
       "    80% {\n",
       "      border-color: transparent;\n",
       "      border-right-color: var(--fill-color);\n",
       "      border-bottom-color: var(--fill-color);\n",
       "    }\n",
       "    90% {\n",
       "      border-color: transparent;\n",
       "      border-bottom-color: var(--fill-color);\n",
       "    }\n",
       "  }\n",
       "</style>\n",
       "\n",
       "      <script>\n",
       "        async function quickchart(key) {\n",
       "          const quickchartButtonEl =\n",
       "            document.querySelector('#' + key + ' button');\n",
       "          quickchartButtonEl.disabled = true;  // To prevent multiple clicks.\n",
       "          quickchartButtonEl.classList.add('colab-df-spinner');\n",
       "          try {\n",
       "            const charts = await google.colab.kernel.invokeFunction(\n",
       "                'suggestCharts', [key], {});\n",
       "          } catch (error) {\n",
       "            console.error('Error during call to suggestCharts:', error);\n",
       "          }\n",
       "          quickchartButtonEl.classList.remove('colab-df-spinner');\n",
       "          quickchartButtonEl.classList.add('colab-df-quickchart-complete');\n",
       "        }\n",
       "        (() => {\n",
       "          let quickchartButtonEl =\n",
       "            document.querySelector('#df-4bd83217-4fd4-4107-b654-35d7401ea00a button');\n",
       "          quickchartButtonEl.style.display =\n",
       "            google.colab.kernel.accessAllowed ? 'block' : 'none';\n",
       "        })();\n",
       "      </script>\n",
       "    </div>\n",
       "\n",
       "    </div>\n",
       "  </div>\n"
      ],
      "text/plain": [
       "   Age               Employment Type  AnnualIncome  FamilyMembers  \\\n",
       "0   31             Government Sector        400000              6   \n",
       "1   31  Private Sector/Self Employed       1250000              7   \n",
       "2   28  Private Sector/Self Employed        700000              3   \n",
       "3   28  Private Sector/Self Employed        700000              8   \n",
       "4   25  Private Sector/Self Employed       1150000              4   \n",
       "\n",
       "   ChronicDiseases  TravelInsurance  GraduateOrNot_Yes  FrequentFlyer_Yes  \\\n",
       "0                1                0               True              False   \n",
       "1                0                0               True              False   \n",
       "2                1                0               True              False   \n",
       "3                1                0               True               True   \n",
       "4                0                0              False              False   \n",
       "\n",
       "   EverTravelledAbroad_Yes  \n",
       "0                    False  \n",
       "1                    False  \n",
       "2                    False  \n",
       "3                    False  \n",
       "4                    False  "
      ]
     },
     "execution_count": 6,
     "metadata": {},
     "output_type": "execute_result"
    }
   ],
   "source": [
    "# 特定の列に対して変換を実施するには，パラメータのcolumnsを利用します．\n",
    "#　そのため，まずは，categoryという変数に「GraduateOrNot」，「FrequentFlyer」，「EverTravelledAbroad」を格納します．\n",
    "#　なお，すべての列を一度に変換するには、columnsを指定する必要はありません．\n",
    "category = ['GraduateOrNot','FrequentFlyer','EverTravelledAbroad']\n",
    "\n",
    "#　drop_firstを「True」に設定し，カテゴリの列を1つ削除したダミー変数を作成します．\n",
    "df_dummies = pd.get_dummies(df, columns=category, drop_first=True)\n",
    "df_dummies.head()"
   ]
  },
  {
   "cell_type": "markdown",
   "metadata": {
    "id": "IdJP-v9erncl"
   },
   "source": [
    "「`GraduateOrNot`」，「`FrequentFlyer`」，「`EverTravelledAbroad`」の回答が，yes→1，no→0に変換されたことを確認してください<br>\n",
    "（yes/noの2値であるため，変換後は1列で表示されます）．<br>\n"
   ]
  },
  {
   "cell_type": "markdown",
   "metadata": {
    "id": "TuBlvkXorncl"
   },
   "source": [
    "### 目的変数のデータ数確認\n",
    "\n",
    "`df['TravelInsurance']`に対して`value_count()`関数を使用し，目的変数yのデータ数（y=1（yes）とy=0（no））も確認してみましょう．"
   ]
  },
  {
   "cell_type": "code",
   "execution_count": null,
   "metadata": {
    "colab": {
     "base_uri": "https://localhost:8080/",
     "height": 178
    },
    "executionInfo": {
     "elapsed": 8,
     "status": "ok",
     "timestamp": 1749988560094,
     "user": {
      "displayName": "塚本育美",
      "userId": "08806102142129474594"
     },
     "user_tz": -540
    },
    "id": "mjdt3Iv6rncm",
    "outputId": "92729dfd-fa40-4568-aa5e-ccd9c40b6396"
   },
   "outputs": [
    {
     "data": {
      "text/html": [
       "<div>\n",
       "<style scoped>\n",
       "    .dataframe tbody tr th:only-of-type {\n",
       "        vertical-align: middle;\n",
       "    }\n",
       "\n",
       "    .dataframe tbody tr th {\n",
       "        vertical-align: top;\n",
       "    }\n",
       "\n",
       "    .dataframe thead th {\n",
       "        text-align: right;\n",
       "    }\n",
       "</style>\n",
       "<table border=\"1\" class=\"dataframe\">\n",
       "  <thead>\n",
       "    <tr style=\"text-align: right;\">\n",
       "      <th></th>\n",
       "      <th>count</th>\n",
       "    </tr>\n",
       "    <tr>\n",
       "      <th>TravelInsurance</th>\n",
       "      <th></th>\n",
       "    </tr>\n",
       "  </thead>\n",
       "  <tbody>\n",
       "    <tr>\n",
       "      <th>0</th>\n",
       "      <td>800</td>\n",
       "    </tr>\n",
       "    <tr>\n",
       "      <th>1</th>\n",
       "      <td>700</td>\n",
       "    </tr>\n",
       "  </tbody>\n",
       "</table>\n",
       "</div><br><label><b>dtype:</b> int64</label>"
      ],
      "text/plain": [
       "TravelInsurance\n",
       "0    800\n",
       "1    700\n",
       "Name: count, dtype: int64"
      ]
     },
     "execution_count": 7,
     "metadata": {},
     "output_type": "execute_result"
    }
   ],
   "source": [
    "# 目的変数yのyesとnoのデータ数をカウント\n",
    "df['TravelInsurance'].value_counts()"
   ]
  },
  {
   "cell_type": "markdown",
   "metadata": {
    "id": "xLmzSx10rncm"
   },
   "source": [
    "`0    800`<br>\n",
    "`1    700`<br>\n",
    "と表示されていればOKです．<br>\n",
    "\n",
    "※noの回答が800，yesの回答が700あります．<br>"
   ]
  },
  {
   "cell_type": "markdown",
   "metadata": {
    "id": "cE2pxjYvw27A"
   },
   "source": [
    "## <font color=\"blue\">2. 関係式の作成と評価</font>\n",
    "\n",
    "関係式（判別境界）の作成手順の大まかな流れは次のようになります．<br>\n",
    "\n",
    "1. 訓練データとテストデータの準備<br>\n",
    "関係式の作成に使用する「訓練データ」と「テストデータ」を準備します．ここでは，上記でインポートしたデータを訓練用とテスト用に分割して使用します．<br>\n",
    "どのような割合で分割するのかはtest_sizeで設定します．ここでは`test_size=0.2`にしているため，説明変数と目的変数を8:2の割合で訓練データとテストデータに分割します（たとえば，0.3にすると，7:3の割合で分割することができます）．<br>\n",
    "なお，8:2に分割される訓練データとテストデータの組み合わせは分割するたびに変わります．そこで，繰り返し実行しても同じ分割結果になるように，`randam_state`を0に設定してデータを固定します．<br>\n",
    "\n",
    "2. データの標準化<br>\n",
    "関係式の作成時（関係式のパラメータの推定）において，説明変数が複数あり，またそれぞれの単位や大きさが異なっている場合，値の小さな変数の影響が小さくなる懸念があります．そこで，そうならないように説明変数の標準化を行ってから，パラメータの推定を行います．標準化を行うと，説明変数の平均値は0，標準偏差は1になります．なお，標準化を行う際に気をつけておくポイントとしては，訓練データの平均値と標準偏差を使用している点です．テストデータは将来手に入るであろう未知データという位置づけのため，そのデータを使って標準化することはできません（scikit-learnのロジスティック回帰では，前回説明した「正則化」が行われる設定になっているので，説明変数の標準化を行ってからパラメータの推定を行います）．\n",
    "\n",
    "3. 関係式の作成（関係式のパラメータ推定）<br>\n",
    "scikit-learnのライブラリを利用して，訓練データから関係式のパラメータを推定します．\n",
    "\n",
    "4. テストデータを用いた関係式の評価<br>\n",
    "予測結果の精度を評価します．具体的には，テストデータの正解率（予測クラスと正解クラスを比較して一致している割合）で関係式の予測精度を評価します．正解率が高いほど関係式の精度は高いということになります．\n"
   ]
  },
  {
   "cell_type": "markdown",
   "metadata": {
    "id": "Gc1XpvFhrncn"
   },
   "source": [
    "### <font color=\"maroon\">2.1. Fisherの線形判別分析による分類</font>\n",
    "\n",
    "Fisherの線形判別分析を用いた関係式を作成してみましょう．"
   ]
  },
  {
   "cell_type": "markdown",
   "metadata": {
    "id": "GcoTeCtgKd08"
   },
   "source": [
    "#### <font color=\"maroon\">ライブラリのインポート</font>\n",
    "\n",
    "使用するライブラリをまとめてインポートします．"
   ]
  },
  {
   "cell_type": "code",
   "execution_count": null,
   "metadata": {
    "id": "BiBg69Q1KmnG"
   },
   "outputs": [],
   "source": [
    "# Fisherの線形判別分析を用いた関係式作成のためのインポート\n",
    "from sklearn.discriminant_analysis import LinearDiscriminantAnalysis\n",
    "\n",
    "# データ分割（訓練データとテストデータ）のためのインポート\n",
    "from sklearn.model_selection import train_test_split\n",
    "\n",
    "# 標準化を行うためのインポート\n",
    "from sklearn.preprocessing import StandardScaler\n",
    "\n",
    "# 正解率を計算するためのインポート\n",
    "from sklearn.metrics import accuracy_score"
   ]
  },
  {
   "cell_type": "markdown",
   "metadata": {
    "id": "6xF5ABN4LYhY"
   },
   "source": [
    "#### <font color=\"maroon\">訓練データとテストデータの準備</font>\n",
    "\n",
    "まずは，説明変数，目的変数を`df_dummies`から抽出しましょう．<br>\n",
    "`df_dummies`に列名を文字列として指定することでその列を抽出できます．<br>\n",
    "\n",
    "説明変数<br>\n",
    "- `Age`\n",
    "- `AnnualIncome`\n",
    "- `FamilyMembers`\n",
    "- `ChronicDiseases`\n",
    "- `GraduateOrNot_Yes`\n",
    "- `FrequentFlyer_Yes`\n",
    "- `EverTravelledAbroad_Yes`\n",
    "\n",
    "目的変数<br>\n",
    "\n",
    "- `TravelInsurance`"
   ]
  },
  {
   "cell_type": "code",
   "execution_count": null,
   "metadata": {
    "id": "tdkTfFo4NPW4"
   },
   "outputs": [],
   "source": [
    "# 説明変数と目的変数の設定\n",
    "df_X = df_dummies[['Age', 'AnnualIncome', 'FamilyMembers', 'ChronicDiseases', 'GraduateOrNot_Yes', 'FrequentFlyer_Yes', 'EverTravelledAbroad_Yes']]\n",
    "df_y = df_dummies['TravelInsurance']"
   ]
  },
  {
   "cell_type": "markdown",
   "metadata": {
    "id": "YE_E5inWNVJF"
   },
   "source": [
    "`train_test_split`関数を用いて，説明変数と目的変数をそれぞれ訓練データとテストデータに分けましょう．<br>\n",
    "`train_test_split`関数の引数には，最初に説明変数`df_X`，次に目的変数`df_y`を渡し，<br>\n",
    "その後に必要なオプション（ここでは`test_size=0.2， random_state=0`）を渡します．<br>"
   ]
  },
  {
   "cell_type": "code",
   "execution_count": null,
   "metadata": {
    "id": "phlwZMItNdMB"
   },
   "outputs": [],
   "source": [
    "# 訓練データとテストデータに分ける\n",
    "# 説明変数と目的変数を8:2の割合で分割するために，test_sizeを0.2に設定\n",
    "# 繰り返し実行しても同じ分割結果になるように，randam_stateを0に設定\n",
    "df_X_train, df_X_test, df_y_train, df_y_test = train_test_split(df_X, df_y, test_size=0.2, random_state=0)"
   ]
  },
  {
   "cell_type": "markdown",
   "metadata": {
    "id": "fCrWAP8B0Ruk"
   },
   "source": [
    "`shape`関数（指定したデータフレームの行数・列数を取得）を用いて，分割できているかを確認してみましょう．<br>\n"
   ]
  },
  {
   "cell_type": "code",
   "execution_count": null,
   "metadata": {
    "colab": {
     "base_uri": "https://localhost:8080/"
    },
    "executionInfo": {
     "elapsed": 8,
     "status": "ok",
     "timestamp": 1749988862989,
     "user": {
      "displayName": "塚本育美",
      "userId": "08806102142129474594"
     },
     "user_tz": -540
    },
    "id": "amLwYQCXwiDe",
    "outputId": "96a26da3-18a1-4cf4-dd0c-f8ad9fce5d2c"
   },
   "outputs": [
    {
     "data": {
      "text/plain": [
       "((1200, 7), (300, 7), (1200,), (300,))"
      ]
     },
     "execution_count": 11,
     "metadata": {},
     "output_type": "execute_result"
    }
   ],
   "source": [
    "# shape関数を用いて分割できているかを確認\n",
    "df_X_train.shape, df_X_test.shape, df_y_train.shape, df_y_test.shape"
   ]
  },
  {
   "cell_type": "markdown",
   "metadata": {
    "id": "Szm6c_vd1Djk"
   },
   "source": [
    "データは全部で1500行ありますので，`((1200, 7), (300, 7), (1200,), (300,))`と表示されていればOKです．"
   ]
  },
  {
   "cell_type": "markdown",
   "metadata": {
    "id": "4TvszawiNt04"
   },
   "source": [
    "#### <font color=\"maroon\">データの標準化</font>\n",
    "\n",
    "データの標準化を行いましょう．<br>\n",
    "訓練データの平均値と標準偏差の計算には`fit`関数を使用し，標準化には`transform`関数を使用します．"
   ]
  },
  {
   "cell_type": "code",
   "execution_count": null,
   "metadata": {
    "id": "HR4UxzlINz7M"
   },
   "outputs": [],
   "source": [
    "# データの標準化を行うための変換器を作成\n",
    "sc = StandardScaler()\n",
    "\n",
    "# 説明変数の訓練データの平均値と標準偏差を計算（scに対してfit関数を用いる．引数にはdf_X_trainを渡す）\n",
    "# 計算結果はscに格納される\n",
    "sc.fit(df_X_train)\n",
    "\n",
    "# scの情報（説明変数の訓練データの平均値と標準偏差）を用いて説明変数の訓練データ（df_X_train）を標準化\n",
    "df_X_train_std = sc.transform(df_X_train)\n",
    "\n",
    "# scの情報（説明変数の訓練データの平均値と標準偏差）を用いて説明変数のテストデータ（df_X_test）を標準化\n",
    "df_X_test_std = sc.transform(df_X_test)"
   ]
  },
  {
   "cell_type": "markdown",
   "metadata": {
    "id": "Y20yCkMKOFBJ"
   },
   "source": [
    "#### <font color=\"maroon\">関係式の作成（分析器の準備および訓練データを元にした関係式のパラメータ推定）</font>\n",
    "\n",
    "まずは，`LinearDiscriminantAnalysis`関数を用いて分析器を準備します．"
   ]
  },
  {
   "cell_type": "code",
   "execution_count": null,
   "metadata": {
    "id": "Ns88mkWTO_QU"
   },
   "outputs": [],
   "source": [
    "# Fisherの線形判別分析を行うための分析器を準備する\n",
    "clf_fisher = LinearDiscriminantAnalysis()"
   ]
  },
  {
   "cell_type": "markdown",
   "metadata": {
    "id": "Z9eRbtFJPChq"
   },
   "source": [
    "`clf_fisher`に対して`fit`関数を用いることで，訓練データを元にした関係式のパラメータを推定します．<br>\n",
    "`fit`関数の引数には訓練データの説明変数`df_X_train_std`と目的変数`df_y_train`を順に渡します．"
   ]
  },
  {
   "cell_type": "code",
   "execution_count": null,
   "metadata": {
    "colab": {
     "base_uri": "https://localhost:8080/",
     "height": 80
    },
    "executionInfo": {
     "elapsed": 69,
     "status": "ok",
     "timestamp": 1749988913480,
     "user": {
      "displayName": "塚本育美",
      "userId": "08806102142129474594"
     },
     "user_tz": -540
    },
    "id": "X2c9mMrjPpG1",
    "outputId": "e6ecabf8-40a2-4241-88fc-11fc15f0cb29"
   },
   "outputs": [
    {
     "data": {
      "text/html": [
       "<style>#sk-container-id-1 {\n",
       "  /* Definition of color scheme common for light and dark mode */\n",
       "  --sklearn-color-text: #000;\n",
       "  --sklearn-color-text-muted: #666;\n",
       "  --sklearn-color-line: gray;\n",
       "  /* Definition of color scheme for unfitted estimators */\n",
       "  --sklearn-color-unfitted-level-0: #fff5e6;\n",
       "  --sklearn-color-unfitted-level-1: #f6e4d2;\n",
       "  --sklearn-color-unfitted-level-2: #ffe0b3;\n",
       "  --sklearn-color-unfitted-level-3: chocolate;\n",
       "  /* Definition of color scheme for fitted estimators */\n",
       "  --sklearn-color-fitted-level-0: #f0f8ff;\n",
       "  --sklearn-color-fitted-level-1: #d4ebff;\n",
       "  --sklearn-color-fitted-level-2: #b3dbfd;\n",
       "  --sklearn-color-fitted-level-3: cornflowerblue;\n",
       "\n",
       "  /* Specific color for light theme */\n",
       "  --sklearn-color-text-on-default-background: var(--sg-text-color, var(--theme-code-foreground, var(--jp-content-font-color1, black)));\n",
       "  --sklearn-color-background: var(--sg-background-color, var(--theme-background, var(--jp-layout-color0, white)));\n",
       "  --sklearn-color-border-box: var(--sg-text-color, var(--theme-code-foreground, var(--jp-content-font-color1, black)));\n",
       "  --sklearn-color-icon: #696969;\n",
       "\n",
       "  @media (prefers-color-scheme: dark) {\n",
       "    /* Redefinition of color scheme for dark theme */\n",
       "    --sklearn-color-text-on-default-background: var(--sg-text-color, var(--theme-code-foreground, var(--jp-content-font-color1, white)));\n",
       "    --sklearn-color-background: var(--sg-background-color, var(--theme-background, var(--jp-layout-color0, #111)));\n",
       "    --sklearn-color-border-box: var(--sg-text-color, var(--theme-code-foreground, var(--jp-content-font-color1, white)));\n",
       "    --sklearn-color-icon: #878787;\n",
       "  }\n",
       "}\n",
       "\n",
       "#sk-container-id-1 {\n",
       "  color: var(--sklearn-color-text);\n",
       "}\n",
       "\n",
       "#sk-container-id-1 pre {\n",
       "  padding: 0;\n",
       "}\n",
       "\n",
       "#sk-container-id-1 input.sk-hidden--visually {\n",
       "  border: 0;\n",
       "  clip: rect(1px 1px 1px 1px);\n",
       "  clip: rect(1px, 1px, 1px, 1px);\n",
       "  height: 1px;\n",
       "  margin: -1px;\n",
       "  overflow: hidden;\n",
       "  padding: 0;\n",
       "  position: absolute;\n",
       "  width: 1px;\n",
       "}\n",
       "\n",
       "#sk-container-id-1 div.sk-dashed-wrapped {\n",
       "  border: 1px dashed var(--sklearn-color-line);\n",
       "  margin: 0 0.4em 0.5em 0.4em;\n",
       "  box-sizing: border-box;\n",
       "  padding-bottom: 0.4em;\n",
       "  background-color: var(--sklearn-color-background);\n",
       "}\n",
       "\n",
       "#sk-container-id-1 div.sk-container {\n",
       "  /* jupyter's `normalize.less` sets `[hidden] { display: none; }`\n",
       "     but bootstrap.min.css set `[hidden] { display: none !important; }`\n",
       "     so we also need the `!important` here to be able to override the\n",
       "     default hidden behavior on the sphinx rendered scikit-learn.org.\n",
       "     See: https://github.com/scikit-learn/scikit-learn/issues/21755 */\n",
       "  display: inline-block !important;\n",
       "  position: relative;\n",
       "}\n",
       "\n",
       "#sk-container-id-1 div.sk-text-repr-fallback {\n",
       "  display: none;\n",
       "}\n",
       "\n",
       "div.sk-parallel-item,\n",
       "div.sk-serial,\n",
       "div.sk-item {\n",
       "  /* draw centered vertical line to link estimators */\n",
       "  background-image: linear-gradient(var(--sklearn-color-text-on-default-background), var(--sklearn-color-text-on-default-background));\n",
       "  background-size: 2px 100%;\n",
       "  background-repeat: no-repeat;\n",
       "  background-position: center center;\n",
       "}\n",
       "\n",
       "/* Parallel-specific style estimator block */\n",
       "\n",
       "#sk-container-id-1 div.sk-parallel-item::after {\n",
       "  content: \"\";\n",
       "  width: 100%;\n",
       "  border-bottom: 2px solid var(--sklearn-color-text-on-default-background);\n",
       "  flex-grow: 1;\n",
       "}\n",
       "\n",
       "#sk-container-id-1 div.sk-parallel {\n",
       "  display: flex;\n",
       "  align-items: stretch;\n",
       "  justify-content: center;\n",
       "  background-color: var(--sklearn-color-background);\n",
       "  position: relative;\n",
       "}\n",
       "\n",
       "#sk-container-id-1 div.sk-parallel-item {\n",
       "  display: flex;\n",
       "  flex-direction: column;\n",
       "}\n",
       "\n",
       "#sk-container-id-1 div.sk-parallel-item:first-child::after {\n",
       "  align-self: flex-end;\n",
       "  width: 50%;\n",
       "}\n",
       "\n",
       "#sk-container-id-1 div.sk-parallel-item:last-child::after {\n",
       "  align-self: flex-start;\n",
       "  width: 50%;\n",
       "}\n",
       "\n",
       "#sk-container-id-1 div.sk-parallel-item:only-child::after {\n",
       "  width: 0;\n",
       "}\n",
       "\n",
       "/* Serial-specific style estimator block */\n",
       "\n",
       "#sk-container-id-1 div.sk-serial {\n",
       "  display: flex;\n",
       "  flex-direction: column;\n",
       "  align-items: center;\n",
       "  background-color: var(--sklearn-color-background);\n",
       "  padding-right: 1em;\n",
       "  padding-left: 1em;\n",
       "}\n",
       "\n",
       "\n",
       "/* Toggleable style: style used for estimator/Pipeline/ColumnTransformer box that is\n",
       "clickable and can be expanded/collapsed.\n",
       "- Pipeline and ColumnTransformer use this feature and define the default style\n",
       "- Estimators will overwrite some part of the style using the `sk-estimator` class\n",
       "*/\n",
       "\n",
       "/* Pipeline and ColumnTransformer style (default) */\n",
       "\n",
       "#sk-container-id-1 div.sk-toggleable {\n",
       "  /* Default theme specific background. It is overwritten whether we have a\n",
       "  specific estimator or a Pipeline/ColumnTransformer */\n",
       "  background-color: var(--sklearn-color-background);\n",
       "}\n",
       "\n",
       "/* Toggleable label */\n",
       "#sk-container-id-1 label.sk-toggleable__label {\n",
       "  cursor: pointer;\n",
       "  display: flex;\n",
       "  width: 100%;\n",
       "  margin-bottom: 0;\n",
       "  padding: 0.5em;\n",
       "  box-sizing: border-box;\n",
       "  text-align: center;\n",
       "  align-items: start;\n",
       "  justify-content: space-between;\n",
       "  gap: 0.5em;\n",
       "}\n",
       "\n",
       "#sk-container-id-1 label.sk-toggleable__label .caption {\n",
       "  font-size: 0.6rem;\n",
       "  font-weight: lighter;\n",
       "  color: var(--sklearn-color-text-muted);\n",
       "}\n",
       "\n",
       "#sk-container-id-1 label.sk-toggleable__label-arrow:before {\n",
       "  /* Arrow on the left of the label */\n",
       "  content: \"▸\";\n",
       "  float: left;\n",
       "  margin-right: 0.25em;\n",
       "  color: var(--sklearn-color-icon);\n",
       "}\n",
       "\n",
       "#sk-container-id-1 label.sk-toggleable__label-arrow:hover:before {\n",
       "  color: var(--sklearn-color-text);\n",
       "}\n",
       "\n",
       "/* Toggleable content - dropdown */\n",
       "\n",
       "#sk-container-id-1 div.sk-toggleable__content {\n",
       "  max-height: 0;\n",
       "  max-width: 0;\n",
       "  overflow: hidden;\n",
       "  text-align: left;\n",
       "  /* unfitted */\n",
       "  background-color: var(--sklearn-color-unfitted-level-0);\n",
       "}\n",
       "\n",
       "#sk-container-id-1 div.sk-toggleable__content.fitted {\n",
       "  /* fitted */\n",
       "  background-color: var(--sklearn-color-fitted-level-0);\n",
       "}\n",
       "\n",
       "#sk-container-id-1 div.sk-toggleable__content pre {\n",
       "  margin: 0.2em;\n",
       "  border-radius: 0.25em;\n",
       "  color: var(--sklearn-color-text);\n",
       "  /* unfitted */\n",
       "  background-color: var(--sklearn-color-unfitted-level-0);\n",
       "}\n",
       "\n",
       "#sk-container-id-1 div.sk-toggleable__content.fitted pre {\n",
       "  /* unfitted */\n",
       "  background-color: var(--sklearn-color-fitted-level-0);\n",
       "}\n",
       "\n",
       "#sk-container-id-1 input.sk-toggleable__control:checked~div.sk-toggleable__content {\n",
       "  /* Expand drop-down */\n",
       "  max-height: 200px;\n",
       "  max-width: 100%;\n",
       "  overflow: auto;\n",
       "}\n",
       "\n",
       "#sk-container-id-1 input.sk-toggleable__control:checked~label.sk-toggleable__label-arrow:before {\n",
       "  content: \"▾\";\n",
       "}\n",
       "\n",
       "/* Pipeline/ColumnTransformer-specific style */\n",
       "\n",
       "#sk-container-id-1 div.sk-label input.sk-toggleable__control:checked~label.sk-toggleable__label {\n",
       "  color: var(--sklearn-color-text);\n",
       "  background-color: var(--sklearn-color-unfitted-level-2);\n",
       "}\n",
       "\n",
       "#sk-container-id-1 div.sk-label.fitted input.sk-toggleable__control:checked~label.sk-toggleable__label {\n",
       "  background-color: var(--sklearn-color-fitted-level-2);\n",
       "}\n",
       "\n",
       "/* Estimator-specific style */\n",
       "\n",
       "/* Colorize estimator box */\n",
       "#sk-container-id-1 div.sk-estimator input.sk-toggleable__control:checked~label.sk-toggleable__label {\n",
       "  /* unfitted */\n",
       "  background-color: var(--sklearn-color-unfitted-level-2);\n",
       "}\n",
       "\n",
       "#sk-container-id-1 div.sk-estimator.fitted input.sk-toggleable__control:checked~label.sk-toggleable__label {\n",
       "  /* fitted */\n",
       "  background-color: var(--sklearn-color-fitted-level-2);\n",
       "}\n",
       "\n",
       "#sk-container-id-1 div.sk-label label.sk-toggleable__label,\n",
       "#sk-container-id-1 div.sk-label label {\n",
       "  /* The background is the default theme color */\n",
       "  color: var(--sklearn-color-text-on-default-background);\n",
       "}\n",
       "\n",
       "/* On hover, darken the color of the background */\n",
       "#sk-container-id-1 div.sk-label:hover label.sk-toggleable__label {\n",
       "  color: var(--sklearn-color-text);\n",
       "  background-color: var(--sklearn-color-unfitted-level-2);\n",
       "}\n",
       "\n",
       "/* Label box, darken color on hover, fitted */\n",
       "#sk-container-id-1 div.sk-label.fitted:hover label.sk-toggleable__label.fitted {\n",
       "  color: var(--sklearn-color-text);\n",
       "  background-color: var(--sklearn-color-fitted-level-2);\n",
       "}\n",
       "\n",
       "/* Estimator label */\n",
       "\n",
       "#sk-container-id-1 div.sk-label label {\n",
       "  font-family: monospace;\n",
       "  font-weight: bold;\n",
       "  display: inline-block;\n",
       "  line-height: 1.2em;\n",
       "}\n",
       "\n",
       "#sk-container-id-1 div.sk-label-container {\n",
       "  text-align: center;\n",
       "}\n",
       "\n",
       "/* Estimator-specific */\n",
       "#sk-container-id-1 div.sk-estimator {\n",
       "  font-family: monospace;\n",
       "  border: 1px dotted var(--sklearn-color-border-box);\n",
       "  border-radius: 0.25em;\n",
       "  box-sizing: border-box;\n",
       "  margin-bottom: 0.5em;\n",
       "  /* unfitted */\n",
       "  background-color: var(--sklearn-color-unfitted-level-0);\n",
       "}\n",
       "\n",
       "#sk-container-id-1 div.sk-estimator.fitted {\n",
       "  /* fitted */\n",
       "  background-color: var(--sklearn-color-fitted-level-0);\n",
       "}\n",
       "\n",
       "/* on hover */\n",
       "#sk-container-id-1 div.sk-estimator:hover {\n",
       "  /* unfitted */\n",
       "  background-color: var(--sklearn-color-unfitted-level-2);\n",
       "}\n",
       "\n",
       "#sk-container-id-1 div.sk-estimator.fitted:hover {\n",
       "  /* fitted */\n",
       "  background-color: var(--sklearn-color-fitted-level-2);\n",
       "}\n",
       "\n",
       "/* Specification for estimator info (e.g. \"i\" and \"?\") */\n",
       "\n",
       "/* Common style for \"i\" and \"?\" */\n",
       "\n",
       ".sk-estimator-doc-link,\n",
       "a:link.sk-estimator-doc-link,\n",
       "a:visited.sk-estimator-doc-link {\n",
       "  float: right;\n",
       "  font-size: smaller;\n",
       "  line-height: 1em;\n",
       "  font-family: monospace;\n",
       "  background-color: var(--sklearn-color-background);\n",
       "  border-radius: 1em;\n",
       "  height: 1em;\n",
       "  width: 1em;\n",
       "  text-decoration: none !important;\n",
       "  margin-left: 0.5em;\n",
       "  text-align: center;\n",
       "  /* unfitted */\n",
       "  border: var(--sklearn-color-unfitted-level-1) 1pt solid;\n",
       "  color: var(--sklearn-color-unfitted-level-1);\n",
       "}\n",
       "\n",
       ".sk-estimator-doc-link.fitted,\n",
       "a:link.sk-estimator-doc-link.fitted,\n",
       "a:visited.sk-estimator-doc-link.fitted {\n",
       "  /* fitted */\n",
       "  border: var(--sklearn-color-fitted-level-1) 1pt solid;\n",
       "  color: var(--sklearn-color-fitted-level-1);\n",
       "}\n",
       "\n",
       "/* On hover */\n",
       "div.sk-estimator:hover .sk-estimator-doc-link:hover,\n",
       ".sk-estimator-doc-link:hover,\n",
       "div.sk-label-container:hover .sk-estimator-doc-link:hover,\n",
       ".sk-estimator-doc-link:hover {\n",
       "  /* unfitted */\n",
       "  background-color: var(--sklearn-color-unfitted-level-3);\n",
       "  color: var(--sklearn-color-background);\n",
       "  text-decoration: none;\n",
       "}\n",
       "\n",
       "div.sk-estimator.fitted:hover .sk-estimator-doc-link.fitted:hover,\n",
       ".sk-estimator-doc-link.fitted:hover,\n",
       "div.sk-label-container:hover .sk-estimator-doc-link.fitted:hover,\n",
       ".sk-estimator-doc-link.fitted:hover {\n",
       "  /* fitted */\n",
       "  background-color: var(--sklearn-color-fitted-level-3);\n",
       "  color: var(--sklearn-color-background);\n",
       "  text-decoration: none;\n",
       "}\n",
       "\n",
       "/* Span, style for the box shown on hovering the info icon */\n",
       ".sk-estimator-doc-link span {\n",
       "  display: none;\n",
       "  z-index: 9999;\n",
       "  position: relative;\n",
       "  font-weight: normal;\n",
       "  right: .2ex;\n",
       "  padding: .5ex;\n",
       "  margin: .5ex;\n",
       "  width: min-content;\n",
       "  min-width: 20ex;\n",
       "  max-width: 50ex;\n",
       "  color: var(--sklearn-color-text);\n",
       "  box-shadow: 2pt 2pt 4pt #999;\n",
       "  /* unfitted */\n",
       "  background: var(--sklearn-color-unfitted-level-0);\n",
       "  border: .5pt solid var(--sklearn-color-unfitted-level-3);\n",
       "}\n",
       "\n",
       ".sk-estimator-doc-link.fitted span {\n",
       "  /* fitted */\n",
       "  background: var(--sklearn-color-fitted-level-0);\n",
       "  border: var(--sklearn-color-fitted-level-3);\n",
       "}\n",
       "\n",
       ".sk-estimator-doc-link:hover span {\n",
       "  display: block;\n",
       "}\n",
       "\n",
       "/* \"?\"-specific style due to the `<a>` HTML tag */\n",
       "\n",
       "#sk-container-id-1 a.estimator_doc_link {\n",
       "  float: right;\n",
       "  font-size: 1rem;\n",
       "  line-height: 1em;\n",
       "  font-family: monospace;\n",
       "  background-color: var(--sklearn-color-background);\n",
       "  border-radius: 1rem;\n",
       "  height: 1rem;\n",
       "  width: 1rem;\n",
       "  text-decoration: none;\n",
       "  /* unfitted */\n",
       "  color: var(--sklearn-color-unfitted-level-1);\n",
       "  border: var(--sklearn-color-unfitted-level-1) 1pt solid;\n",
       "}\n",
       "\n",
       "#sk-container-id-1 a.estimator_doc_link.fitted {\n",
       "  /* fitted */\n",
       "  border: var(--sklearn-color-fitted-level-1) 1pt solid;\n",
       "  color: var(--sklearn-color-fitted-level-1);\n",
       "}\n",
       "\n",
       "/* On hover */\n",
       "#sk-container-id-1 a.estimator_doc_link:hover {\n",
       "  /* unfitted */\n",
       "  background-color: var(--sklearn-color-unfitted-level-3);\n",
       "  color: var(--sklearn-color-background);\n",
       "  text-decoration: none;\n",
       "}\n",
       "\n",
       "#sk-container-id-1 a.estimator_doc_link.fitted:hover {\n",
       "  /* fitted */\n",
       "  background-color: var(--sklearn-color-fitted-level-3);\n",
       "}\n",
       "</style><div id=\"sk-container-id-1\" class=\"sk-top-container\"><div class=\"sk-text-repr-fallback\"><pre>LinearDiscriminantAnalysis()</pre><b>In a Jupyter environment, please rerun this cell to show the HTML representation or trust the notebook. <br />On GitHub, the HTML representation is unable to render, please try loading this page with nbviewer.org.</b></div><div class=\"sk-container\" hidden><div class=\"sk-item\"><div class=\"sk-estimator fitted sk-toggleable\"><input class=\"sk-toggleable__control sk-hidden--visually\" id=\"sk-estimator-id-1\" type=\"checkbox\" checked><label for=\"sk-estimator-id-1\" class=\"sk-toggleable__label fitted sk-toggleable__label-arrow\"><div><div>LinearDiscriminantAnalysis</div></div><div><a class=\"sk-estimator-doc-link fitted\" rel=\"noreferrer\" target=\"_blank\" href=\"https://scikit-learn.org/1.6/modules/generated/sklearn.discriminant_analysis.LinearDiscriminantAnalysis.html\">?<span>Documentation for LinearDiscriminantAnalysis</span></a><span class=\"sk-estimator-doc-link fitted\">i<span>Fitted</span></span></div></label><div class=\"sk-toggleable__content fitted\"><pre>LinearDiscriminantAnalysis()</pre></div> </div></div></div></div>"
      ],
      "text/plain": [
       "LinearDiscriminantAnalysis()"
      ]
     },
     "execution_count": 14,
     "metadata": {},
     "output_type": "execute_result"
    }
   ],
   "source": [
    "# 訓練データを元にした関係式のパラメータを推定（関係式を作成）\n",
    "clf_fisher.fit(df_X_train_std, df_y_train)"
   ]
  },
  {
   "cell_type": "markdown",
   "metadata": {
    "id": "UbAJolxQPtxX"
   },
   "source": [
    "#### <font color=\"maroon\">テストデータを用いた関係式の評価</font>\n",
    "\n",
    "作成した関係式（`clf_fisher`）に対して，`predict`関数を用いることで予測クラスを出力してみましょう．<br>\n",
    "`predict`関数の引数にはテストデータ`df_X2_test_std`を渡します．<br>\n",
    "また，`print`関数で予測クラスを出力してみましょう．"
   ]
  },
  {
   "cell_type": "code",
   "execution_count": null,
   "metadata": {
    "colab": {
     "base_uri": "https://localhost:8080/"
    },
    "executionInfo": {
     "elapsed": 15,
     "status": "ok",
     "timestamp": 1749988927101,
     "user": {
      "displayName": "塚本育美",
      "userId": "08806102142129474594"
     },
     "user_tz": -540
    },
    "id": "dieuNuoJVbZr",
    "outputId": "9c451b3b-0590-474d-b69e-e1251d278c43"
   },
   "outputs": [
    {
     "name": "stdout",
     "output_type": "stream",
     "text": [
      "[0 0 0 0 1 1 0 0 0 1 1 0 1 0 0 0 1 1 0 1 0 0 0 0 0 1 1 1 0 1 1 0 1 0 1 0 1\n",
      " 0 0 0 1 1 1 0 0 1 0 0 0 0 0 1 0 1 1 0 0 0 1 0 0 0 1 0 1 1 0 1 0 0 1 0 0 0\n",
      " 1 0 1 0 1 0 0 1 0 0 1 0 0 0 0 0 0 0 0 1 0 1 0 0 0 1 0 0 0 0 0 1 0 0 0 1 1\n",
      " 0 0 0 1 0 1 0 1 0 0 0 0 0 1 0 0 1 1 1 0 1 1 0 1 1 0 0 1 1 0 0 1 0 0 0 0 0\n",
      " 0 0 0 1 0 0 0 0 1 1 1 0 1 0 0 1 1 0 0 1 0 0 0 0 1 0 0 0 1 0 1 0 0 1 0 0 1\n",
      " 0 1 0 1 0 0 1 0 0 1 0 1 0 0 0 1 0 0 0 0 0 0 0 0 1 0 0 1 1 1 0 0 1 0 0 1 0\n",
      " 0 0 0 0 1 0 1 0 0 1 1 1 0 0 1 1 0 1 1 0 1 0 0 0 0 0 1 0 0 0 1 1 1 0 0 1 0\n",
      " 0 0 0 0 0 1 0 1 0 0 0 1 1 1 1 1 0 1 0 0 0 1 1 0 1 1 0 1 0 0 0 0 0 0 0 1 0\n",
      " 1 0 1 0]\n"
     ]
    }
   ],
   "source": [
    "# テストデータに対する予測クラスを出力\n",
    "df_y_test_pred =  clf_fisher.predict(df_X_test_std)\n",
    "print(df_y_test_pred)"
   ]
  },
  {
   "cell_type": "markdown",
   "metadata": {
    "id": "jZU-SsPyVuLX"
   },
   "source": [
    "`accuracy_score`関数に予測クラス`df_y_test_pred`と正解クラス`df_y_test`を渡すことで正解率を計算してみましょう．<br>\n",
    "\n",
    "※<font color=\"red\">引数には，正解クラス`df_y_test`，予測クラス`df_y_test_pred`の順で渡します．</font><br>\n",
    "※正解率は正解した数をテストデータの数で割ったものです．<br>"
   ]
  },
  {
   "cell_type": "code",
   "execution_count": null,
   "metadata": {
    "colab": {
     "base_uri": "https://localhost:8080/"
    },
    "executionInfo": {
     "elapsed": 14,
     "status": "ok",
     "timestamp": 1749988941616,
     "user": {
      "displayName": "塚本育美",
      "userId": "08806102142129474594"
     },
     "user_tz": -540
    },
    "id": "qFIWyig_w27A",
    "outputId": "a57a72f6-1783-433e-e236-90fefef30d08"
   },
   "outputs": [
    {
     "name": "stdout",
     "output_type": "stream",
     "text": [
      "正解率　= 0.73\n"
     ]
    }
   ],
   "source": [
    "# 予測クラスと正解クラスから正解率を計算\n",
    "ac_score = accuracy_score(df_y_test, df_y_test_pred)\n",
    "print('正解率　= %.2f' %(ac_score))"
   ]
  },
  {
   "cell_type": "markdown",
   "metadata": {
    "id": "QMUfll-gnxMy"
   },
   "source": [
    "`正解率　= 0.73`（73%）と表示されていればOKです．"
   ]
  },
  {
   "cell_type": "markdown",
   "metadata": {
    "id": "Zx2Iq2t5iCd8"
   },
   "source": [
    "#### <font color=\"maroon\">未知データの予測</font>\n",
    "\n",
    "作成した関係式を用いて，未知のデータを予測してみましょう．<br>\n",
    "まずは，未知データのデータフレームを作成します．<br>\n",
    "各カテゴリには以下の数値を入力しましょう．<br>\n",
    "\n",
    "- `Age`: `33`\n",
    "- `AnnualIncome`: `1500000`\n",
    "- `FamilyMembers`: `4`\n",
    "- `ChronicDiseases`: `0`\n",
    "- `GraduateOrNot_Yes`: `1`\n",
    "- `FrequentFlyer_Yes`: `1`\n",
    "- `EverTravelledAbroad_Yes`: `1`"
   ]
  },
  {
   "cell_type": "code",
   "execution_count": null,
   "metadata": {
    "id": "bLN3zFl7iF4z"
   },
   "outputs": [],
   "source": [
    "# 未知データの作成（Age, AnnualIncome, FamilyMembers, ChronicDiseases, GraduateOrNot_Yes, FrequentFlyer_Yes, EverTravelledAbroad_Yes）\n",
    "df_X_newdata = pd.DataFrame(\n",
    "    data={'Age': [33],\n",
    "          'AnnualIncome':[1500000],\n",
    "          'FamilyMembers':[4],\n",
    "          'ChronicDiseases':[0],\n",
    "          'GraduateOrNot_Yes':[1],\n",
    "          'FrequentFlyer_Yes':[1],\n",
    "          'EverTravelledAbroad_Yes':[1]}\n",
    ")"
   ]
  },
  {
   "cell_type": "markdown",
   "metadata": {
    "id": "GFWsvDKrJWza"
   },
   "source": [
    "説明変数の訓練データの平均値と標準偏差を用いて未知データを標準化します．<br>\n",
    "標準化には`transform`関数を使用し，引数には未知データを渡します．"
   ]
  },
  {
   "cell_type": "code",
   "execution_count": null,
   "metadata": {
    "id": "pxSUu8Ssn2u_"
   },
   "outputs": [],
   "source": [
    "# scの情報（説明変数の訓練データの平均値と標準偏差）を用いて未知データを標準化\n",
    "df_X_newdata_std = sc.transform(df_X_newdata)"
   ]
  },
  {
   "cell_type": "markdown",
   "metadata": {
    "id": "hstXb8OAoJi2"
   },
   "source": [
    "作成した関係式（`clf_fisher`）に対して`predict`関数を用いることで分類の予測クラスを出力します．<br>\n",
    "また，`clf_fisher`に`predict_proba`関数を用いることで未知データが各クラスに属する確率の推定値を出力します．<br>\n",
    "`predict`関数と`predict_proba`関数の引数にはテストデータ`df_X_newdata_std`を渡します．<br>\n",
    "結果は`print`関数を使用して表示させてみましょう．<br>"
   ]
  },
  {
   "cell_type": "code",
   "execution_count": null,
   "metadata": {
    "colab": {
     "base_uri": "https://localhost:8080/"
    },
    "executionInfo": {
     "elapsed": 13,
     "status": "ok",
     "timestamp": 1749989018452,
     "user": {
      "displayName": "塚本育美",
      "userId": "08806102142129474594"
     },
     "user_tz": -540
    },
    "id": "qQTzY4A8oLTu",
    "outputId": "5909b90b-c47a-4a98-8eb4-8eae18b49816"
   },
   "outputs": [
    {
     "name": "stdout",
     "output_type": "stream",
     "text": [
      "Fisherの線形判別分析\n",
      "予測 [1]\n",
      "確率 [[0.07777024 0.92222976]]\n"
     ]
    }
   ],
   "source": [
    "print('Fisherの線形判別分析')\n",
    "print('予測', clf_fisher.predict(df_X_newdata_std)) # 未知データの分類予測クラス\n",
    "print('確率', clf_fisher.predict_proba(df_X_newdata_std)) # 未知データが各クラスに属する確率の推定値"
   ]
  },
  {
   "cell_type": "markdown",
   "metadata": {
    "id": "OeQZ809ooYME"
   },
   "source": [
    "予測の結果，以下のように表示されていればOKです．<br>\n",
    "\n",
    "`Fisherの線形判別分析`<br>\n",
    "`予測 [1]`<br>\n",
    "`確率 [[0.07777024 0.92222976]]`<br>"
   ]
  },
  {
   "cell_type": "markdown",
   "metadata": {
    "id": "7EbYrEH0w27B"
   },
   "source": [
    "### <font color=\"salmon\">2.2. SVMによる分類</font>\n",
    "\n",
    "次に，SVMを用いた関係式を作成してみましょう．<br>\n",
    "Fisherとは書き方が異なる箇所に★マークを記載しています．<br>"
   ]
  },
  {
   "cell_type": "markdown",
   "metadata": {
    "id": "-3XzM9_ZqkCk"
   },
   "source": [
    "#### <font color=\"salmon\">ライブラリのインポート</font>\n",
    "\n",
    "使用するライブラリをまとめてインポートします．"
   ]
  },
  {
   "cell_type": "code",
   "execution_count": null,
   "metadata": {
    "id": "u5Q2_qWOqlRK"
   },
   "outputs": [],
   "source": [
    "# SVMを用いた関係式作成のためのインポート★\n",
    "from sklearn.svm import SVC\n",
    "\n",
    "# データ分割（訓練データとテストデータ）のためのインポート\n",
    "from sklearn.model_selection import train_test_split\n",
    "\n",
    "# 標準化を行うためのインポート\n",
    "from sklearn.preprocessing import StandardScaler\n",
    "\n",
    "# 正解率を計算するためのインポート\n",
    "from sklearn.metrics import accuracy_score"
   ]
  },
  {
   "cell_type": "markdown",
   "metadata": {
    "id": "KJXHs-xQqngh"
   },
   "source": [
    "#### <font color=\"salmon\">訓練データとテストデータの準備</font>\n",
    "\n",
    "まずは，説明変数，目的変数を`df_dummies`から抽出しましょう．<br>\n",
    "`df_dummies`に列名を文字列として指定することでその列を抽出できます．<br>\n",
    "\n",
    "説明変数<br>\n",
    "- `Age`\n",
    "- `AnnualIncome`\n",
    "- `FamilyMembers`\n",
    "- `ChronicDiseases`\n",
    "- `GraduateOrNot_Yes`\n",
    "- `FrequentFlyer_Yes`\n",
    "- `EverTravelledAbroad_Yes`\n",
    "\n",
    "目的変数<br>\n",
    "\n",
    "- `TravelInsurance`"
   ]
  },
  {
   "cell_type": "code",
   "execution_count": null,
   "metadata": {
    "id": "_hCpqXC2rJfx"
   },
   "outputs": [],
   "source": [
    "# 説明変数と目的変数の設定\n",
    "df_X = df_dummies[['Age', 'AnnualIncome', 'FamilyMembers', 'ChronicDiseases', 'GraduateOrNot_Yes', 'FrequentFlyer_Yes', 'EverTravelledAbroad_Yes']]\n",
    "df_y = df_dummies['TravelInsurance']"
   ]
  },
  {
   "cell_type": "markdown",
   "metadata": {
    "id": "XzBhhBvn_Zyw"
   },
   "source": [
    "`train_test_split`関数を用いて，説明変数と目的変数をそれぞれ訓練データとテストデータに分けましょう．<br>\n",
    "`train_test_split`関数の引数には，最初に説明変数`df_X`，次に目的変数`df_y`を渡し，<br>\n",
    "その後に必要なオプション（ここでは`test_size=0.2， random_state=0`）を渡します．<br>"
   ]
  },
  {
   "cell_type": "code",
   "execution_count": null,
   "metadata": {
    "id": "_iEA17zgr5tT"
   },
   "outputs": [],
   "source": [
    "# 訓練データとテストデータに分ける\n",
    "# 繰り返し実行しても同じ分割結果になるように，randam_stateを0に設定\n",
    "df_X_train, df_X_test, df_y_train, df_y_test = train_test_split(df_X, df_y, test_size=0.2, random_state=0)"
   ]
  },
  {
   "cell_type": "markdown",
   "metadata": {
    "id": "2s9t_IdZTXIY"
   },
   "source": [
    "`shape`関数（指定したデータフレームの行数・列数を取得）を用いて，分割できているかを確認してみましょう．<br>"
   ]
  },
  {
   "cell_type": "code",
   "execution_count": null,
   "metadata": {
    "colab": {
     "base_uri": "https://localhost:8080/"
    },
    "executionInfo": {
     "elapsed": 26,
     "status": "ok",
     "timestamp": 1749989107070,
     "user": {
      "displayName": "塚本育美",
      "userId": "08806102142129474594"
     },
     "user_tz": -540
    },
    "id": "ZYNuB89ZTuBv",
    "outputId": "28099f61-3cd4-44f0-94cb-54f522ed6395"
   },
   "outputs": [
    {
     "data": {
      "text/plain": [
       "((1200, 7), (300, 7), (1200,), (300,))"
      ]
     },
     "execution_count": 24,
     "metadata": {},
     "output_type": "execute_result"
    }
   ],
   "source": [
    "# shape関数を用いて分割できているかを確認\n",
    "df_X_train.shape, df_X_test.shape, df_y_train.shape, df_y_test.shape"
   ]
  },
  {
   "cell_type": "markdown",
   "metadata": {
    "id": "i-IBgSJ1rPPp"
   },
   "source": [
    "データは全部で1500行ありますので，`((1200, 7), (300, 7), (1200,), (300,))`と表示されていればOKです．"
   ]
  },
  {
   "cell_type": "markdown",
   "metadata": {
    "id": "SqcfZjWDsIXj"
   },
   "source": [
    "#### <font color=\"salmon\">データの標準化</font>\n",
    "\n",
    "データの標準化を行いましょう．<br>\n",
    "訓練データの平均値と標準偏差の計算には`fit`関数を使用し，標準化には`transform`関数を使用します．<br>"
   ]
  },
  {
   "cell_type": "code",
   "execution_count": null,
   "metadata": {
    "id": "YplDIbAExo6W"
   },
   "outputs": [],
   "source": [
    "# データの標準化を行うための変換器を作成\n",
    "sc = StandardScaler()\n",
    "\n",
    "# 説明変数の訓練データの平均値と標準偏差を計算（scに対してfit関数を用いる．引数にはdf_X_trainを渡す）\n",
    "# 計算結果はscに格納される\n",
    "sc.fit(df_X_train)\n",
    "\n",
    "# scの情報（説明変数の訓練データの平均値と標準偏差）を用いて説明変数の訓練データ（df_X_train）を標準化\n",
    "df_X_train_std = sc.transform(df_X_train)\n",
    "\n",
    "# scの情報（説明変数の訓練データの平均値と標準偏差）を用いて説明変数のテストデータ（df_X_test）を標準化\n",
    "df_X_test_std = sc.transform(df_X_test)"
   ]
  },
  {
   "cell_type": "markdown",
   "metadata": {
    "id": "k0DisVL6xzPD"
   },
   "source": [
    "#### <font color=\"salmon\">関係式の作成（分析器の作成および訓練データを元にした関係式のパラメータ推定）</font>\n",
    "\n",
    "まずは，`SVC`関数を用いて分析器を準備します．<br>\n",
    "引数に`kernel = 'linear'`を設定することで，判別境界を線形に指定することができます．<br>"
   ]
  },
  {
   "cell_type": "code",
   "execution_count": null,
   "metadata": {
    "id": "pXcdQifbArWi"
   },
   "outputs": [],
   "source": [
    "# SVMを行うための分析器を準備する．　SVC関数の引数に「kernel=‘linear’」を設定して，判別境界を線形に指定する．★\n",
    "clf_svm = SVC(kernel = 'linear')"
   ]
  },
  {
   "cell_type": "markdown",
   "metadata": {
    "id": "k1_mB_pgAs2S"
   },
   "source": [
    "次に，`clf_svm`に対して`fit`関数を用いることで，訓練データを元にした関係式のパラメータを推定します．<br>\n",
    "`fit`関数の引数には訓練データの説明変数`df_X_train_std`と目的変数`df_y_train`を順に渡します．"
   ]
  },
  {
   "cell_type": "code",
   "execution_count": null,
   "metadata": {
    "colab": {
     "base_uri": "https://localhost:8080/",
     "height": 80
    },
    "executionInfo": {
     "elapsed": 971,
     "status": "ok",
     "timestamp": 1749989165031,
     "user": {
      "displayName": "塚本育美",
      "userId": "08806102142129474594"
     },
     "user_tz": -540
    },
    "id": "LK90vcTNA5ke",
    "outputId": "1ad43032-22ca-4da7-b06e-2b3a4e053d1b"
   },
   "outputs": [
    {
     "data": {
      "text/html": [
       "<style>#sk-container-id-2 {\n",
       "  /* Definition of color scheme common for light and dark mode */\n",
       "  --sklearn-color-text: #000;\n",
       "  --sklearn-color-text-muted: #666;\n",
       "  --sklearn-color-line: gray;\n",
       "  /* Definition of color scheme for unfitted estimators */\n",
       "  --sklearn-color-unfitted-level-0: #fff5e6;\n",
       "  --sklearn-color-unfitted-level-1: #f6e4d2;\n",
       "  --sklearn-color-unfitted-level-2: #ffe0b3;\n",
       "  --sklearn-color-unfitted-level-3: chocolate;\n",
       "  /* Definition of color scheme for fitted estimators */\n",
       "  --sklearn-color-fitted-level-0: #f0f8ff;\n",
       "  --sklearn-color-fitted-level-1: #d4ebff;\n",
       "  --sklearn-color-fitted-level-2: #b3dbfd;\n",
       "  --sklearn-color-fitted-level-3: cornflowerblue;\n",
       "\n",
       "  /* Specific color for light theme */\n",
       "  --sklearn-color-text-on-default-background: var(--sg-text-color, var(--theme-code-foreground, var(--jp-content-font-color1, black)));\n",
       "  --sklearn-color-background: var(--sg-background-color, var(--theme-background, var(--jp-layout-color0, white)));\n",
       "  --sklearn-color-border-box: var(--sg-text-color, var(--theme-code-foreground, var(--jp-content-font-color1, black)));\n",
       "  --sklearn-color-icon: #696969;\n",
       "\n",
       "  @media (prefers-color-scheme: dark) {\n",
       "    /* Redefinition of color scheme for dark theme */\n",
       "    --sklearn-color-text-on-default-background: var(--sg-text-color, var(--theme-code-foreground, var(--jp-content-font-color1, white)));\n",
       "    --sklearn-color-background: var(--sg-background-color, var(--theme-background, var(--jp-layout-color0, #111)));\n",
       "    --sklearn-color-border-box: var(--sg-text-color, var(--theme-code-foreground, var(--jp-content-font-color1, white)));\n",
       "    --sklearn-color-icon: #878787;\n",
       "  }\n",
       "}\n",
       "\n",
       "#sk-container-id-2 {\n",
       "  color: var(--sklearn-color-text);\n",
       "}\n",
       "\n",
       "#sk-container-id-2 pre {\n",
       "  padding: 0;\n",
       "}\n",
       "\n",
       "#sk-container-id-2 input.sk-hidden--visually {\n",
       "  border: 0;\n",
       "  clip: rect(1px 1px 1px 1px);\n",
       "  clip: rect(1px, 1px, 1px, 1px);\n",
       "  height: 1px;\n",
       "  margin: -1px;\n",
       "  overflow: hidden;\n",
       "  padding: 0;\n",
       "  position: absolute;\n",
       "  width: 1px;\n",
       "}\n",
       "\n",
       "#sk-container-id-2 div.sk-dashed-wrapped {\n",
       "  border: 1px dashed var(--sklearn-color-line);\n",
       "  margin: 0 0.4em 0.5em 0.4em;\n",
       "  box-sizing: border-box;\n",
       "  padding-bottom: 0.4em;\n",
       "  background-color: var(--sklearn-color-background);\n",
       "}\n",
       "\n",
       "#sk-container-id-2 div.sk-container {\n",
       "  /* jupyter's `normalize.less` sets `[hidden] { display: none; }`\n",
       "     but bootstrap.min.css set `[hidden] { display: none !important; }`\n",
       "     so we also need the `!important` here to be able to override the\n",
       "     default hidden behavior on the sphinx rendered scikit-learn.org.\n",
       "     See: https://github.com/scikit-learn/scikit-learn/issues/21755 */\n",
       "  display: inline-block !important;\n",
       "  position: relative;\n",
       "}\n",
       "\n",
       "#sk-container-id-2 div.sk-text-repr-fallback {\n",
       "  display: none;\n",
       "}\n",
       "\n",
       "div.sk-parallel-item,\n",
       "div.sk-serial,\n",
       "div.sk-item {\n",
       "  /* draw centered vertical line to link estimators */\n",
       "  background-image: linear-gradient(var(--sklearn-color-text-on-default-background), var(--sklearn-color-text-on-default-background));\n",
       "  background-size: 2px 100%;\n",
       "  background-repeat: no-repeat;\n",
       "  background-position: center center;\n",
       "}\n",
       "\n",
       "/* Parallel-specific style estimator block */\n",
       "\n",
       "#sk-container-id-2 div.sk-parallel-item::after {\n",
       "  content: \"\";\n",
       "  width: 100%;\n",
       "  border-bottom: 2px solid var(--sklearn-color-text-on-default-background);\n",
       "  flex-grow: 1;\n",
       "}\n",
       "\n",
       "#sk-container-id-2 div.sk-parallel {\n",
       "  display: flex;\n",
       "  align-items: stretch;\n",
       "  justify-content: center;\n",
       "  background-color: var(--sklearn-color-background);\n",
       "  position: relative;\n",
       "}\n",
       "\n",
       "#sk-container-id-2 div.sk-parallel-item {\n",
       "  display: flex;\n",
       "  flex-direction: column;\n",
       "}\n",
       "\n",
       "#sk-container-id-2 div.sk-parallel-item:first-child::after {\n",
       "  align-self: flex-end;\n",
       "  width: 50%;\n",
       "}\n",
       "\n",
       "#sk-container-id-2 div.sk-parallel-item:last-child::after {\n",
       "  align-self: flex-start;\n",
       "  width: 50%;\n",
       "}\n",
       "\n",
       "#sk-container-id-2 div.sk-parallel-item:only-child::after {\n",
       "  width: 0;\n",
       "}\n",
       "\n",
       "/* Serial-specific style estimator block */\n",
       "\n",
       "#sk-container-id-2 div.sk-serial {\n",
       "  display: flex;\n",
       "  flex-direction: column;\n",
       "  align-items: center;\n",
       "  background-color: var(--sklearn-color-background);\n",
       "  padding-right: 1em;\n",
       "  padding-left: 1em;\n",
       "}\n",
       "\n",
       "\n",
       "/* Toggleable style: style used for estimator/Pipeline/ColumnTransformer box that is\n",
       "clickable and can be expanded/collapsed.\n",
       "- Pipeline and ColumnTransformer use this feature and define the default style\n",
       "- Estimators will overwrite some part of the style using the `sk-estimator` class\n",
       "*/\n",
       "\n",
       "/* Pipeline and ColumnTransformer style (default) */\n",
       "\n",
       "#sk-container-id-2 div.sk-toggleable {\n",
       "  /* Default theme specific background. It is overwritten whether we have a\n",
       "  specific estimator or a Pipeline/ColumnTransformer */\n",
       "  background-color: var(--sklearn-color-background);\n",
       "}\n",
       "\n",
       "/* Toggleable label */\n",
       "#sk-container-id-2 label.sk-toggleable__label {\n",
       "  cursor: pointer;\n",
       "  display: flex;\n",
       "  width: 100%;\n",
       "  margin-bottom: 0;\n",
       "  padding: 0.5em;\n",
       "  box-sizing: border-box;\n",
       "  text-align: center;\n",
       "  align-items: start;\n",
       "  justify-content: space-between;\n",
       "  gap: 0.5em;\n",
       "}\n",
       "\n",
       "#sk-container-id-2 label.sk-toggleable__label .caption {\n",
       "  font-size: 0.6rem;\n",
       "  font-weight: lighter;\n",
       "  color: var(--sklearn-color-text-muted);\n",
       "}\n",
       "\n",
       "#sk-container-id-2 label.sk-toggleable__label-arrow:before {\n",
       "  /* Arrow on the left of the label */\n",
       "  content: \"▸\";\n",
       "  float: left;\n",
       "  margin-right: 0.25em;\n",
       "  color: var(--sklearn-color-icon);\n",
       "}\n",
       "\n",
       "#sk-container-id-2 label.sk-toggleable__label-arrow:hover:before {\n",
       "  color: var(--sklearn-color-text);\n",
       "}\n",
       "\n",
       "/* Toggleable content - dropdown */\n",
       "\n",
       "#sk-container-id-2 div.sk-toggleable__content {\n",
       "  max-height: 0;\n",
       "  max-width: 0;\n",
       "  overflow: hidden;\n",
       "  text-align: left;\n",
       "  /* unfitted */\n",
       "  background-color: var(--sklearn-color-unfitted-level-0);\n",
       "}\n",
       "\n",
       "#sk-container-id-2 div.sk-toggleable__content.fitted {\n",
       "  /* fitted */\n",
       "  background-color: var(--sklearn-color-fitted-level-0);\n",
       "}\n",
       "\n",
       "#sk-container-id-2 div.sk-toggleable__content pre {\n",
       "  margin: 0.2em;\n",
       "  border-radius: 0.25em;\n",
       "  color: var(--sklearn-color-text);\n",
       "  /* unfitted */\n",
       "  background-color: var(--sklearn-color-unfitted-level-0);\n",
       "}\n",
       "\n",
       "#sk-container-id-2 div.sk-toggleable__content.fitted pre {\n",
       "  /* unfitted */\n",
       "  background-color: var(--sklearn-color-fitted-level-0);\n",
       "}\n",
       "\n",
       "#sk-container-id-2 input.sk-toggleable__control:checked~div.sk-toggleable__content {\n",
       "  /* Expand drop-down */\n",
       "  max-height: 200px;\n",
       "  max-width: 100%;\n",
       "  overflow: auto;\n",
       "}\n",
       "\n",
       "#sk-container-id-2 input.sk-toggleable__control:checked~label.sk-toggleable__label-arrow:before {\n",
       "  content: \"▾\";\n",
       "}\n",
       "\n",
       "/* Pipeline/ColumnTransformer-specific style */\n",
       "\n",
       "#sk-container-id-2 div.sk-label input.sk-toggleable__control:checked~label.sk-toggleable__label {\n",
       "  color: var(--sklearn-color-text);\n",
       "  background-color: var(--sklearn-color-unfitted-level-2);\n",
       "}\n",
       "\n",
       "#sk-container-id-2 div.sk-label.fitted input.sk-toggleable__control:checked~label.sk-toggleable__label {\n",
       "  background-color: var(--sklearn-color-fitted-level-2);\n",
       "}\n",
       "\n",
       "/* Estimator-specific style */\n",
       "\n",
       "/* Colorize estimator box */\n",
       "#sk-container-id-2 div.sk-estimator input.sk-toggleable__control:checked~label.sk-toggleable__label {\n",
       "  /* unfitted */\n",
       "  background-color: var(--sklearn-color-unfitted-level-2);\n",
       "}\n",
       "\n",
       "#sk-container-id-2 div.sk-estimator.fitted input.sk-toggleable__control:checked~label.sk-toggleable__label {\n",
       "  /* fitted */\n",
       "  background-color: var(--sklearn-color-fitted-level-2);\n",
       "}\n",
       "\n",
       "#sk-container-id-2 div.sk-label label.sk-toggleable__label,\n",
       "#sk-container-id-2 div.sk-label label {\n",
       "  /* The background is the default theme color */\n",
       "  color: var(--sklearn-color-text-on-default-background);\n",
       "}\n",
       "\n",
       "/* On hover, darken the color of the background */\n",
       "#sk-container-id-2 div.sk-label:hover label.sk-toggleable__label {\n",
       "  color: var(--sklearn-color-text);\n",
       "  background-color: var(--sklearn-color-unfitted-level-2);\n",
       "}\n",
       "\n",
       "/* Label box, darken color on hover, fitted */\n",
       "#sk-container-id-2 div.sk-label.fitted:hover label.sk-toggleable__label.fitted {\n",
       "  color: var(--sklearn-color-text);\n",
       "  background-color: var(--sklearn-color-fitted-level-2);\n",
       "}\n",
       "\n",
       "/* Estimator label */\n",
       "\n",
       "#sk-container-id-2 div.sk-label label {\n",
       "  font-family: monospace;\n",
       "  font-weight: bold;\n",
       "  display: inline-block;\n",
       "  line-height: 1.2em;\n",
       "}\n",
       "\n",
       "#sk-container-id-2 div.sk-label-container {\n",
       "  text-align: center;\n",
       "}\n",
       "\n",
       "/* Estimator-specific */\n",
       "#sk-container-id-2 div.sk-estimator {\n",
       "  font-family: monospace;\n",
       "  border: 1px dotted var(--sklearn-color-border-box);\n",
       "  border-radius: 0.25em;\n",
       "  box-sizing: border-box;\n",
       "  margin-bottom: 0.5em;\n",
       "  /* unfitted */\n",
       "  background-color: var(--sklearn-color-unfitted-level-0);\n",
       "}\n",
       "\n",
       "#sk-container-id-2 div.sk-estimator.fitted {\n",
       "  /* fitted */\n",
       "  background-color: var(--sklearn-color-fitted-level-0);\n",
       "}\n",
       "\n",
       "/* on hover */\n",
       "#sk-container-id-2 div.sk-estimator:hover {\n",
       "  /* unfitted */\n",
       "  background-color: var(--sklearn-color-unfitted-level-2);\n",
       "}\n",
       "\n",
       "#sk-container-id-2 div.sk-estimator.fitted:hover {\n",
       "  /* fitted */\n",
       "  background-color: var(--sklearn-color-fitted-level-2);\n",
       "}\n",
       "\n",
       "/* Specification for estimator info (e.g. \"i\" and \"?\") */\n",
       "\n",
       "/* Common style for \"i\" and \"?\" */\n",
       "\n",
       ".sk-estimator-doc-link,\n",
       "a:link.sk-estimator-doc-link,\n",
       "a:visited.sk-estimator-doc-link {\n",
       "  float: right;\n",
       "  font-size: smaller;\n",
       "  line-height: 1em;\n",
       "  font-family: monospace;\n",
       "  background-color: var(--sklearn-color-background);\n",
       "  border-radius: 1em;\n",
       "  height: 1em;\n",
       "  width: 1em;\n",
       "  text-decoration: none !important;\n",
       "  margin-left: 0.5em;\n",
       "  text-align: center;\n",
       "  /* unfitted */\n",
       "  border: var(--sklearn-color-unfitted-level-1) 1pt solid;\n",
       "  color: var(--sklearn-color-unfitted-level-1);\n",
       "}\n",
       "\n",
       ".sk-estimator-doc-link.fitted,\n",
       "a:link.sk-estimator-doc-link.fitted,\n",
       "a:visited.sk-estimator-doc-link.fitted {\n",
       "  /* fitted */\n",
       "  border: var(--sklearn-color-fitted-level-1) 1pt solid;\n",
       "  color: var(--sklearn-color-fitted-level-1);\n",
       "}\n",
       "\n",
       "/* On hover */\n",
       "div.sk-estimator:hover .sk-estimator-doc-link:hover,\n",
       ".sk-estimator-doc-link:hover,\n",
       "div.sk-label-container:hover .sk-estimator-doc-link:hover,\n",
       ".sk-estimator-doc-link:hover {\n",
       "  /* unfitted */\n",
       "  background-color: var(--sklearn-color-unfitted-level-3);\n",
       "  color: var(--sklearn-color-background);\n",
       "  text-decoration: none;\n",
       "}\n",
       "\n",
       "div.sk-estimator.fitted:hover .sk-estimator-doc-link.fitted:hover,\n",
       ".sk-estimator-doc-link.fitted:hover,\n",
       "div.sk-label-container:hover .sk-estimator-doc-link.fitted:hover,\n",
       ".sk-estimator-doc-link.fitted:hover {\n",
       "  /* fitted */\n",
       "  background-color: var(--sklearn-color-fitted-level-3);\n",
       "  color: var(--sklearn-color-background);\n",
       "  text-decoration: none;\n",
       "}\n",
       "\n",
       "/* Span, style for the box shown on hovering the info icon */\n",
       ".sk-estimator-doc-link span {\n",
       "  display: none;\n",
       "  z-index: 9999;\n",
       "  position: relative;\n",
       "  font-weight: normal;\n",
       "  right: .2ex;\n",
       "  padding: .5ex;\n",
       "  margin: .5ex;\n",
       "  width: min-content;\n",
       "  min-width: 20ex;\n",
       "  max-width: 50ex;\n",
       "  color: var(--sklearn-color-text);\n",
       "  box-shadow: 2pt 2pt 4pt #999;\n",
       "  /* unfitted */\n",
       "  background: var(--sklearn-color-unfitted-level-0);\n",
       "  border: .5pt solid var(--sklearn-color-unfitted-level-3);\n",
       "}\n",
       "\n",
       ".sk-estimator-doc-link.fitted span {\n",
       "  /* fitted */\n",
       "  background: var(--sklearn-color-fitted-level-0);\n",
       "  border: var(--sklearn-color-fitted-level-3);\n",
       "}\n",
       "\n",
       ".sk-estimator-doc-link:hover span {\n",
       "  display: block;\n",
       "}\n",
       "\n",
       "/* \"?\"-specific style due to the `<a>` HTML tag */\n",
       "\n",
       "#sk-container-id-2 a.estimator_doc_link {\n",
       "  float: right;\n",
       "  font-size: 1rem;\n",
       "  line-height: 1em;\n",
       "  font-family: monospace;\n",
       "  background-color: var(--sklearn-color-background);\n",
       "  border-radius: 1rem;\n",
       "  height: 1rem;\n",
       "  width: 1rem;\n",
       "  text-decoration: none;\n",
       "  /* unfitted */\n",
       "  color: var(--sklearn-color-unfitted-level-1);\n",
       "  border: var(--sklearn-color-unfitted-level-1) 1pt solid;\n",
       "}\n",
       "\n",
       "#sk-container-id-2 a.estimator_doc_link.fitted {\n",
       "  /* fitted */\n",
       "  border: var(--sklearn-color-fitted-level-1) 1pt solid;\n",
       "  color: var(--sklearn-color-fitted-level-1);\n",
       "}\n",
       "\n",
       "/* On hover */\n",
       "#sk-container-id-2 a.estimator_doc_link:hover {\n",
       "  /* unfitted */\n",
       "  background-color: var(--sklearn-color-unfitted-level-3);\n",
       "  color: var(--sklearn-color-background);\n",
       "  text-decoration: none;\n",
       "}\n",
       "\n",
       "#sk-container-id-2 a.estimator_doc_link.fitted:hover {\n",
       "  /* fitted */\n",
       "  background-color: var(--sklearn-color-fitted-level-3);\n",
       "}\n",
       "</style><div id=\"sk-container-id-2\" class=\"sk-top-container\"><div class=\"sk-text-repr-fallback\"><pre>SVC(kernel=&#x27;linear&#x27;)</pre><b>In a Jupyter environment, please rerun this cell to show the HTML representation or trust the notebook. <br />On GitHub, the HTML representation is unable to render, please try loading this page with nbviewer.org.</b></div><div class=\"sk-container\" hidden><div class=\"sk-item\"><div class=\"sk-estimator fitted sk-toggleable\"><input class=\"sk-toggleable__control sk-hidden--visually\" id=\"sk-estimator-id-2\" type=\"checkbox\" checked><label for=\"sk-estimator-id-2\" class=\"sk-toggleable__label fitted sk-toggleable__label-arrow\"><div><div>SVC</div></div><div><a class=\"sk-estimator-doc-link fitted\" rel=\"noreferrer\" target=\"_blank\" href=\"https://scikit-learn.org/1.6/modules/generated/sklearn.svm.SVC.html\">?<span>Documentation for SVC</span></a><span class=\"sk-estimator-doc-link fitted\">i<span>Fitted</span></span></div></label><div class=\"sk-toggleable__content fitted\"><pre>SVC(kernel=&#x27;linear&#x27;)</pre></div> </div></div></div></div>"
      ],
      "text/plain": [
       "SVC(kernel='linear')"
      ]
     },
     "execution_count": 27,
     "metadata": {},
     "output_type": "execute_result"
    }
   ],
   "source": [
    "# 訓練データを元にした関係式のパラメータを推定（関係式を作成）\n",
    "clf_svm.fit(df_X_train_std, df_y_train)"
   ]
  },
  {
   "cell_type": "markdown",
   "metadata": {
    "id": "UsmMRjmkCwU_"
   },
   "source": [
    "#### <font color=\"salmon\">テストデータを用いた関係式の評価</font>\n",
    "\n",
    "作成した関係式（`clf_svm`）に対して，`predict`関数を用いることで予測クラスを出力してみましょう．<br>\n",
    "`predict`関数の引数にはテストデータ`df_X_test_std`を渡します．<br>\n",
    "`print`関数で予測クラスを見てみましょう．<br>"
   ]
  },
  {
   "cell_type": "code",
   "execution_count": null,
   "metadata": {
    "colab": {
     "base_uri": "https://localhost:8080/"
    },
    "executionInfo": {
     "elapsed": 40,
     "status": "ok",
     "timestamp": 1749989184366,
     "user": {
      "displayName": "塚本育美",
      "userId": "08806102142129474594"
     },
     "user_tz": -540
    },
    "id": "CDso_7IVDM9p",
    "outputId": "5e3ce7bd-8467-4166-ee9a-e6f0df48c9e8"
   },
   "outputs": [
    {
     "name": "stdout",
     "output_type": "stream",
     "text": [
      "[0 0 0 0 1 1 0 0 0 1 1 0 1 0 0 0 1 1 0 1 0 0 0 0 0 1 1 1 0 1 1 0 0 0 0 0 1\n",
      " 0 0 0 1 1 1 0 0 1 0 0 0 0 0 0 0 0 0 0 0 0 0 0 0 0 0 0 0 0 0 1 0 0 1 0 0 0\n",
      " 1 0 0 0 0 0 0 0 0 0 1 0 0 0 0 0 0 0 0 1 0 1 0 0 0 1 0 0 0 0 0 1 0 0 0 1 0\n",
      " 0 0 0 0 0 1 0 1 0 0 0 0 0 1 0 0 0 0 1 0 1 0 0 1 0 0 0 1 0 0 0 0 0 0 0 0 0\n",
      " 0 0 0 1 0 0 0 0 1 1 1 0 1 0 0 0 1 0 0 1 0 0 0 0 1 0 0 0 0 0 1 0 0 1 0 0 0\n",
      " 0 1 0 0 0 0 1 0 0 1 0 1 0 0 0 0 0 0 0 0 0 0 0 0 1 0 0 0 1 1 0 0 1 0 0 1 0\n",
      " 0 0 0 0 0 0 0 0 0 1 1 1 0 0 1 1 0 1 0 0 1 0 0 0 0 0 1 0 0 0 1 0 1 0 0 0 0\n",
      " 0 0 0 0 0 1 0 1 0 0 0 1 1 1 1 1 0 0 0 0 0 1 0 0 1 1 0 1 0 0 0 0 0 0 0 1 0\n",
      " 1 0 1 0]\n"
     ]
    }
   ],
   "source": [
    "# テストデータに対する予測クラスを出力\n",
    "df_y_test_pred = clf_svm.predict(df_X_test_std)\n",
    "print(df_y_test_pred)"
   ]
  },
  {
   "cell_type": "markdown",
   "metadata": {
    "id": "K8Np3gaIrwMJ"
   },
   "source": [
    "`accuracy_score`関数に予測クラス`df_y_test_pred`と正解クラス`df_y_test`を渡すことで正解率を計算してみましょう．<br>\n",
    "\n",
    "※<font color=\"red\">引数には，正解クラス`df_y_test`，予測クラス`df_y_test_pred`の順で渡します．</font><br>\n",
    "※正解率は正解した数をテストデータの数で割ったものです．<br>"
   ]
  },
  {
   "cell_type": "code",
   "execution_count": null,
   "metadata": {
    "colab": {
     "base_uri": "https://localhost:8080/"
    },
    "executionInfo": {
     "elapsed": 9,
     "status": "ok",
     "timestamp": 1749989209532,
     "user": {
      "displayName": "塚本育美",
      "userId": "08806102142129474594"
     },
     "user_tz": -540
    },
    "id": "AeMotRraw27B",
    "outputId": "bedf70d9-40ac-41e9-d237-3746302acac0"
   },
   "outputs": [
    {
     "name": "stdout",
     "output_type": "stream",
     "text": [
      "正解率　= 0.71\n"
     ]
    }
   ],
   "source": [
    "# 予測クラスと正解クラスから正解率を計算\n",
    "ac_score = accuracy_score(df_y_test, df_y_test_pred)\n",
    "print('正解率　= %.2f' %(ac_score))"
   ]
  },
  {
   "cell_type": "markdown",
   "metadata": {
    "id": "lzdNbHIJtRsN"
   },
   "source": [
    "`正解率　= 0.71`（71%）と表示されていればOKです．"
   ]
  },
  {
   "cell_type": "markdown",
   "metadata": {
    "id": "ueiMZb5qw27B"
   },
   "source": [
    "#### <font color=\"salmon\">未知データの予測</font>\n",
    "\n",
    "作成した関係式を用いて，未知のデータを予測してみましょう（未知のデータはFisherの時と同様です）．<br>\n",
    "まずは，未知データのデータフレームを作成します．<br>\n",
    "各カテゴリには以下の数値を入力しましょう．<br>\n",
    "\n",
    "- `Age`: `33`\n",
    "- `AnnualIncome`: `1500000`\n",
    "- `FamilyMembers`: `4`\n",
    "- `ChronicDiseases`: `0`\n",
    "- `GraduateOrNot_Yes`: `1`\n",
    "- `FrequentFlyer_Yes`: `1`\n",
    "- `EverTravelledAbroad_Yes`: `1`"
   ]
  },
  {
   "cell_type": "code",
   "execution_count": null,
   "metadata": {
    "id": "AkS3CYvsE5zt"
   },
   "outputs": [],
   "source": [
    "# 未知データの作成（Age, AnnualIncome, FamilyMembers, ChronicDiseases, GraduateOrNot_Yes, FrequentFlyer_Yes, EverTravelledAbroad_Yes）\n",
    "df_X_newdata = pd.DataFrame(\n",
    "    data={'Age': [33],\n",
    "          'AnnualIncome':[1500000],\n",
    "          'FamilyMembers':[4],\n",
    "          'ChronicDiseases':[0],\n",
    "          'GraduateOrNot_Yes':[1],\n",
    "          'FrequentFlyer_Yes':[1],\n",
    "          'EverTravelledAbroad_Yes':[1]}\n",
    ")"
   ]
  },
  {
   "cell_type": "markdown",
   "metadata": {
    "id": "JEVvC8R4JZQ8"
   },
   "source": [
    "説明変数の訓練データの平均値と標準偏差を用いて未知データを標準化します．<br>\n",
    "標準化には`transform`関数を使用し，引数には未知データを渡します．"
   ]
  },
  {
   "cell_type": "code",
   "execution_count": null,
   "metadata": {
    "id": "d2i3nIhiE5xg"
   },
   "outputs": [],
   "source": [
    "# scの情報（説明変数の訓練データの平均値と標準偏差）を用いて未知データを標準化\n",
    "df_X_newdata_std = sc.transform(df_X_newdata)"
   ]
  },
  {
   "cell_type": "markdown",
   "metadata": {
    "id": "44Vj6vVlFGOA"
   },
   "source": [
    "作成した関係式（`clf_svm`）に対して，`predict`関数を用いることで分類の予測クラスを出力します．<br>\n",
    "`predict`関数の引数にはテストデータ`df_X_newdata_std`を渡します．<br>\n",
    "結果は`print`関数を使用して表示させてみましょう．<br>"
   ]
  },
  {
   "cell_type": "code",
   "execution_count": null,
   "metadata": {
    "colab": {
     "base_uri": "https://localhost:8080/"
    },
    "executionInfo": {
     "elapsed": 18,
     "status": "ok",
     "timestamp": 1749989265336,
     "user": {
      "displayName": "塚本育美",
      "userId": "08806102142129474594"
     },
     "user_tz": -540
    },
    "id": "XhOUAGnBw27B",
    "outputId": "9542fdf0-28e0-44a0-e2c8-c067c7b9f09d"
   },
   "outputs": [
    {
     "name": "stdout",
     "output_type": "stream",
     "text": [
      "SVM\n",
      "予測 [1]\n"
     ]
    }
   ],
   "source": [
    "print('SVM')\n",
    "print('予測', clf_svm.predict(df_X_newdata_std)) # 未知データの分類予測クラス"
   ]
  },
  {
   "cell_type": "markdown",
   "metadata": {
    "id": "jBZBhpKsCKLd"
   },
   "source": [
    "予測の結果，以下のように表示されていればOKです．<br>\n",
    "\n",
    "`SVM`<br>\n",
    "`予測 [1]`<br>"
   ]
  },
  {
   "cell_type": "markdown",
   "metadata": {
    "id": "KmihTmAxw27C"
   },
   "source": [
    "### <font color=\"dodgerblue\">2.3. ロジスティック回帰による分類</font>\n",
    "\n",
    "最後に，ロジスティック回帰を用いた関係式を作成してみましょう．<br>\n",
    "Fisher，SVMとは書き方が異なる箇所に★マークを記載しています．<br>"
   ]
  },
  {
   "cell_type": "markdown",
   "metadata": {
    "id": "D7ix7Er_xrG2"
   },
   "source": [
    "#### <font color=\"dodgerblue\">ライブラリのインポート</font>\n",
    "\n",
    "使用するライブラリをまとめてインポートします．"
   ]
  },
  {
   "cell_type": "code",
   "execution_count": null,
   "metadata": {
    "id": "ivoLjc5nxvv7"
   },
   "outputs": [],
   "source": [
    "# ロジスティック回帰の分析器作成のためのインポート★\n",
    "from sklearn.linear_model import LogisticRegression\n",
    "\n",
    "# データ分割（訓練データとテストデータ）のためのインポート\n",
    "from sklearn.model_selection import train_test_split\n",
    "\n",
    "# 標準化を行うためのインポート\n",
    "from sklearn.preprocessing import StandardScaler\n",
    "\n",
    "# 正解率を計算するためのインポート\n",
    "from sklearn.metrics import accuracy_score"
   ]
  },
  {
   "cell_type": "markdown",
   "metadata": {
    "id": "BNazp4K-x8DJ"
   },
   "source": [
    "#### <font color=\"dodgerblue\">訓練データとテストデータの準備</font>\n",
    "\n",
    "まずは，説明変数，目的変数を`df_dummies`から抽出しましょう．<br>\n",
    "`df_dummies`に列名を文字列として指定することでその列を抽出できます．<br>\n",
    "\n",
    "説明変数<br>\n",
    "- `Age`\n",
    "- `AnnualIncome`\n",
    "- `FamilyMembers`\n",
    "- `ChronicDiseases`\n",
    "- `GraduateOrNot_Yes`\n",
    "- `FrequentFlyer_Yes`\n",
    "- `EverTravelledAbroad_Yes`\n",
    "\n",
    "目的変数<br>\n",
    "\n",
    "- `TravelInsurance`"
   ]
  },
  {
   "cell_type": "code",
   "execution_count": null,
   "metadata": {
    "id": "CTvRkRO9ygmE"
   },
   "outputs": [],
   "source": [
    "# 説明変数と目的変数の設定\n",
    "df_X = df_dummies[['Age', 'AnnualIncome', 'FamilyMembers', 'ChronicDiseases', 'GraduateOrNot_Yes', 'FrequentFlyer_Yes', 'EverTravelledAbroad_Yes']]\n",
    "df_y = df_dummies['TravelInsurance']"
   ]
  },
  {
   "cell_type": "markdown",
   "metadata": {
    "id": "anvbk4iK_lR-"
   },
   "source": [
    "`train_test_split`関数を用いて，説明変数と目的変数をそれぞれ訓練データとテストデータに分けましょう．<br>\n",
    "`train_test_split`関数の引数には，最初に説明変数`df_X`，次に目的変数`df_y`を渡し，<br>\n",
    "その後に必要なオプション（ここでは`test_size=0.2， random_state=0`）を渡します．<br>"
   ]
  },
  {
   "cell_type": "code",
   "execution_count": null,
   "metadata": {
    "id": "bnnpmtWayvDR"
   },
   "outputs": [],
   "source": [
    "# 訓練データとテストデータに分ける\n",
    "# 説明変数と目的変数を8:2の割合で分割するために，test_sizeを0.2に設定\n",
    "# 繰り返し実行しても同じ分割結果になるように，randam_stateを0に設定\n",
    "df_X_train, df_X_test, df_y_train, df_y_test = train_test_split(df_X, df_y, test_size=0.2, random_state=0)"
   ]
  },
  {
   "cell_type": "markdown",
   "metadata": {
    "id": "o39b2fASzMIc"
   },
   "source": [
    "`shape`関数（指定したデータフレームの行数・列数を取得）を用いて，分割できているかを確認してみましょう．<br>"
   ]
  },
  {
   "cell_type": "code",
   "execution_count": null,
   "metadata": {
    "colab": {
     "base_uri": "https://localhost:8080/"
    },
    "executionInfo": {
     "elapsed": 17,
     "status": "ok",
     "timestamp": 1749989313120,
     "user": {
      "displayName": "塚本育美",
      "userId": "08806102142129474594"
     },
     "user_tz": -540
    },
    "id": "vji4XJdNzO1v",
    "outputId": "f4709a8f-bc9d-4745-defb-53a251cbfd92"
   },
   "outputs": [
    {
     "data": {
      "text/plain": [
       "((1200, 7), (300, 7), (1200,), (300,))"
      ]
     },
     "execution_count": 35,
     "metadata": {},
     "output_type": "execute_result"
    }
   ],
   "source": [
    "# shape関数を用いて分割できているかを確認\n",
    "df_X_train.shape, df_X_test.shape, df_y_train.shape, df_y_test.shape"
   ]
  },
  {
   "cell_type": "markdown",
   "metadata": {
    "id": "ukC3nNyZ2UzB"
   },
   "source": [
    "データは全部で1500行ありますので，`((1200, 7), (300, 7), (1200,), (300,))`と表示されていればOKです．"
   ]
  },
  {
   "cell_type": "markdown",
   "metadata": {
    "id": "2_QKzYK3zdQD"
   },
   "source": [
    "#### <font color=\"dodgerblue\">データの標準化</font>\n",
    "\n",
    "データの標準化を行いましょう．<br>\n",
    "訓練データの平均値と標準偏差の計算には`fit`関数を使用し，標準化には`transform`関数を使用します．<br>"
   ]
  },
  {
   "cell_type": "code",
   "execution_count": null,
   "metadata": {
    "id": "cDuChbwWzk5V"
   },
   "outputs": [],
   "source": [
    "# データの標準化を行うための変換器を作成\n",
    "sc = StandardScaler()\n",
    "\n",
    "# 説明変数の訓練データの平均値と標準偏差を計算（scに対してfit関数を用いる．引数にはdf_X_trainを渡す）\n",
    "# 計算結果はscに格納される\n",
    "sc.fit(df_X_train)\n",
    "\n",
    "# scの情報（説明変数の訓練データの平均値と標準偏差）を用いて説明変数の訓練データ（df_X_train）を標準化\n",
    "df_X_train_std = sc.transform(df_X_train)\n",
    "\n",
    "# scの情報（説明変数の訓練データの平均値と標準偏差）を用いて説明変数のテストデータ（df_X_test）を標準化\n",
    "df_X_test_std = sc.transform(df_X_test)"
   ]
  },
  {
   "cell_type": "markdown",
   "metadata": {
    "id": "Nm-RYyEZzttU"
   },
   "source": [
    "#### <font color=\"dodgerblue\">関係式の作成（分析器の準備および訓練データを元にした関係式のパラメータ推定）</font>\n",
    "\n",
    "まずは，`LogisticRegression`関数を用いて分析器を準備します．<br>"
   ]
  },
  {
   "cell_type": "code",
   "execution_count": null,
   "metadata": {
    "id": "3KV_q8xZz7Ek"
   },
   "outputs": [],
   "source": [
    "# ロジスティック回帰を行うための分析器を準備する★\n",
    "clf_lr = LogisticRegression()"
   ]
  },
  {
   "cell_type": "markdown",
   "metadata": {
    "id": "KJBzuoTB_oUA"
   },
   "source": [
    "`clf_lr`に対して`fit`関数を用いることで，訓練データを元にした関係式のパラメータを推定します．<br>\n",
    "`fit`関数の引数には訓練データの説明変数`df_X_train_std`と目的変数`df_y_train_std`を順に渡します．"
   ]
  },
  {
   "cell_type": "code",
   "execution_count": null,
   "metadata": {
    "colab": {
     "base_uri": "https://localhost:8080/",
     "height": 80
    },
    "executionInfo": {
     "elapsed": 217,
     "status": "ok",
     "timestamp": 1749989366314,
     "user": {
      "displayName": "塚本育美",
      "userId": "08806102142129474594"
     },
     "user_tz": -540
    },
    "id": "e_BDG76B_vIq",
    "outputId": "3ffaf29d-f43e-4a26-e6d1-d4f21f262803"
   },
   "outputs": [
    {
     "data": {
      "text/html": [
       "<style>#sk-container-id-4 {\n",
       "  /* Definition of color scheme common for light and dark mode */\n",
       "  --sklearn-color-text: #000;\n",
       "  --sklearn-color-text-muted: #666;\n",
       "  --sklearn-color-line: gray;\n",
       "  /* Definition of color scheme for unfitted estimators */\n",
       "  --sklearn-color-unfitted-level-0: #fff5e6;\n",
       "  --sklearn-color-unfitted-level-1: #f6e4d2;\n",
       "  --sklearn-color-unfitted-level-2: #ffe0b3;\n",
       "  --sklearn-color-unfitted-level-3: chocolate;\n",
       "  /* Definition of color scheme for fitted estimators */\n",
       "  --sklearn-color-fitted-level-0: #f0f8ff;\n",
       "  --sklearn-color-fitted-level-1: #d4ebff;\n",
       "  --sklearn-color-fitted-level-2: #b3dbfd;\n",
       "  --sklearn-color-fitted-level-3: cornflowerblue;\n",
       "\n",
       "  /* Specific color for light theme */\n",
       "  --sklearn-color-text-on-default-background: var(--sg-text-color, var(--theme-code-foreground, var(--jp-content-font-color1, black)));\n",
       "  --sklearn-color-background: var(--sg-background-color, var(--theme-background, var(--jp-layout-color0, white)));\n",
       "  --sklearn-color-border-box: var(--sg-text-color, var(--theme-code-foreground, var(--jp-content-font-color1, black)));\n",
       "  --sklearn-color-icon: #696969;\n",
       "\n",
       "  @media (prefers-color-scheme: dark) {\n",
       "    /* Redefinition of color scheme for dark theme */\n",
       "    --sklearn-color-text-on-default-background: var(--sg-text-color, var(--theme-code-foreground, var(--jp-content-font-color1, white)));\n",
       "    --sklearn-color-background: var(--sg-background-color, var(--theme-background, var(--jp-layout-color0, #111)));\n",
       "    --sklearn-color-border-box: var(--sg-text-color, var(--theme-code-foreground, var(--jp-content-font-color1, white)));\n",
       "    --sklearn-color-icon: #878787;\n",
       "  }\n",
       "}\n",
       "\n",
       "#sk-container-id-4 {\n",
       "  color: var(--sklearn-color-text);\n",
       "}\n",
       "\n",
       "#sk-container-id-4 pre {\n",
       "  padding: 0;\n",
       "}\n",
       "\n",
       "#sk-container-id-4 input.sk-hidden--visually {\n",
       "  border: 0;\n",
       "  clip: rect(1px 1px 1px 1px);\n",
       "  clip: rect(1px, 1px, 1px, 1px);\n",
       "  height: 1px;\n",
       "  margin: -1px;\n",
       "  overflow: hidden;\n",
       "  padding: 0;\n",
       "  position: absolute;\n",
       "  width: 1px;\n",
       "}\n",
       "\n",
       "#sk-container-id-4 div.sk-dashed-wrapped {\n",
       "  border: 1px dashed var(--sklearn-color-line);\n",
       "  margin: 0 0.4em 0.5em 0.4em;\n",
       "  box-sizing: border-box;\n",
       "  padding-bottom: 0.4em;\n",
       "  background-color: var(--sklearn-color-background);\n",
       "}\n",
       "\n",
       "#sk-container-id-4 div.sk-container {\n",
       "  /* jupyter's `normalize.less` sets `[hidden] { display: none; }`\n",
       "     but bootstrap.min.css set `[hidden] { display: none !important; }`\n",
       "     so we also need the `!important` here to be able to override the\n",
       "     default hidden behavior on the sphinx rendered scikit-learn.org.\n",
       "     See: https://github.com/scikit-learn/scikit-learn/issues/21755 */\n",
       "  display: inline-block !important;\n",
       "  position: relative;\n",
       "}\n",
       "\n",
       "#sk-container-id-4 div.sk-text-repr-fallback {\n",
       "  display: none;\n",
       "}\n",
       "\n",
       "div.sk-parallel-item,\n",
       "div.sk-serial,\n",
       "div.sk-item {\n",
       "  /* draw centered vertical line to link estimators */\n",
       "  background-image: linear-gradient(var(--sklearn-color-text-on-default-background), var(--sklearn-color-text-on-default-background));\n",
       "  background-size: 2px 100%;\n",
       "  background-repeat: no-repeat;\n",
       "  background-position: center center;\n",
       "}\n",
       "\n",
       "/* Parallel-specific style estimator block */\n",
       "\n",
       "#sk-container-id-4 div.sk-parallel-item::after {\n",
       "  content: \"\";\n",
       "  width: 100%;\n",
       "  border-bottom: 2px solid var(--sklearn-color-text-on-default-background);\n",
       "  flex-grow: 1;\n",
       "}\n",
       "\n",
       "#sk-container-id-4 div.sk-parallel {\n",
       "  display: flex;\n",
       "  align-items: stretch;\n",
       "  justify-content: center;\n",
       "  background-color: var(--sklearn-color-background);\n",
       "  position: relative;\n",
       "}\n",
       "\n",
       "#sk-container-id-4 div.sk-parallel-item {\n",
       "  display: flex;\n",
       "  flex-direction: column;\n",
       "}\n",
       "\n",
       "#sk-container-id-4 div.sk-parallel-item:first-child::after {\n",
       "  align-self: flex-end;\n",
       "  width: 50%;\n",
       "}\n",
       "\n",
       "#sk-container-id-4 div.sk-parallel-item:last-child::after {\n",
       "  align-self: flex-start;\n",
       "  width: 50%;\n",
       "}\n",
       "\n",
       "#sk-container-id-4 div.sk-parallel-item:only-child::after {\n",
       "  width: 0;\n",
       "}\n",
       "\n",
       "/* Serial-specific style estimator block */\n",
       "\n",
       "#sk-container-id-4 div.sk-serial {\n",
       "  display: flex;\n",
       "  flex-direction: column;\n",
       "  align-items: center;\n",
       "  background-color: var(--sklearn-color-background);\n",
       "  padding-right: 1em;\n",
       "  padding-left: 1em;\n",
       "}\n",
       "\n",
       "\n",
       "/* Toggleable style: style used for estimator/Pipeline/ColumnTransformer box that is\n",
       "clickable and can be expanded/collapsed.\n",
       "- Pipeline and ColumnTransformer use this feature and define the default style\n",
       "- Estimators will overwrite some part of the style using the `sk-estimator` class\n",
       "*/\n",
       "\n",
       "/* Pipeline and ColumnTransformer style (default) */\n",
       "\n",
       "#sk-container-id-4 div.sk-toggleable {\n",
       "  /* Default theme specific background. It is overwritten whether we have a\n",
       "  specific estimator or a Pipeline/ColumnTransformer */\n",
       "  background-color: var(--sklearn-color-background);\n",
       "}\n",
       "\n",
       "/* Toggleable label */\n",
       "#sk-container-id-4 label.sk-toggleable__label {\n",
       "  cursor: pointer;\n",
       "  display: flex;\n",
       "  width: 100%;\n",
       "  margin-bottom: 0;\n",
       "  padding: 0.5em;\n",
       "  box-sizing: border-box;\n",
       "  text-align: center;\n",
       "  align-items: start;\n",
       "  justify-content: space-between;\n",
       "  gap: 0.5em;\n",
       "}\n",
       "\n",
       "#sk-container-id-4 label.sk-toggleable__label .caption {\n",
       "  font-size: 0.6rem;\n",
       "  font-weight: lighter;\n",
       "  color: var(--sklearn-color-text-muted);\n",
       "}\n",
       "\n",
       "#sk-container-id-4 label.sk-toggleable__label-arrow:before {\n",
       "  /* Arrow on the left of the label */\n",
       "  content: \"▸\";\n",
       "  float: left;\n",
       "  margin-right: 0.25em;\n",
       "  color: var(--sklearn-color-icon);\n",
       "}\n",
       "\n",
       "#sk-container-id-4 label.sk-toggleable__label-arrow:hover:before {\n",
       "  color: var(--sklearn-color-text);\n",
       "}\n",
       "\n",
       "/* Toggleable content - dropdown */\n",
       "\n",
       "#sk-container-id-4 div.sk-toggleable__content {\n",
       "  max-height: 0;\n",
       "  max-width: 0;\n",
       "  overflow: hidden;\n",
       "  text-align: left;\n",
       "  /* unfitted */\n",
       "  background-color: var(--sklearn-color-unfitted-level-0);\n",
       "}\n",
       "\n",
       "#sk-container-id-4 div.sk-toggleable__content.fitted {\n",
       "  /* fitted */\n",
       "  background-color: var(--sklearn-color-fitted-level-0);\n",
       "}\n",
       "\n",
       "#sk-container-id-4 div.sk-toggleable__content pre {\n",
       "  margin: 0.2em;\n",
       "  border-radius: 0.25em;\n",
       "  color: var(--sklearn-color-text);\n",
       "  /* unfitted */\n",
       "  background-color: var(--sklearn-color-unfitted-level-0);\n",
       "}\n",
       "\n",
       "#sk-container-id-4 div.sk-toggleable__content.fitted pre {\n",
       "  /* unfitted */\n",
       "  background-color: var(--sklearn-color-fitted-level-0);\n",
       "}\n",
       "\n",
       "#sk-container-id-4 input.sk-toggleable__control:checked~div.sk-toggleable__content {\n",
       "  /* Expand drop-down */\n",
       "  max-height: 200px;\n",
       "  max-width: 100%;\n",
       "  overflow: auto;\n",
       "}\n",
       "\n",
       "#sk-container-id-4 input.sk-toggleable__control:checked~label.sk-toggleable__label-arrow:before {\n",
       "  content: \"▾\";\n",
       "}\n",
       "\n",
       "/* Pipeline/ColumnTransformer-specific style */\n",
       "\n",
       "#sk-container-id-4 div.sk-label input.sk-toggleable__control:checked~label.sk-toggleable__label {\n",
       "  color: var(--sklearn-color-text);\n",
       "  background-color: var(--sklearn-color-unfitted-level-2);\n",
       "}\n",
       "\n",
       "#sk-container-id-4 div.sk-label.fitted input.sk-toggleable__control:checked~label.sk-toggleable__label {\n",
       "  background-color: var(--sklearn-color-fitted-level-2);\n",
       "}\n",
       "\n",
       "/* Estimator-specific style */\n",
       "\n",
       "/* Colorize estimator box */\n",
       "#sk-container-id-4 div.sk-estimator input.sk-toggleable__control:checked~label.sk-toggleable__label {\n",
       "  /* unfitted */\n",
       "  background-color: var(--sklearn-color-unfitted-level-2);\n",
       "}\n",
       "\n",
       "#sk-container-id-4 div.sk-estimator.fitted input.sk-toggleable__control:checked~label.sk-toggleable__label {\n",
       "  /* fitted */\n",
       "  background-color: var(--sklearn-color-fitted-level-2);\n",
       "}\n",
       "\n",
       "#sk-container-id-4 div.sk-label label.sk-toggleable__label,\n",
       "#sk-container-id-4 div.sk-label label {\n",
       "  /* The background is the default theme color */\n",
       "  color: var(--sklearn-color-text-on-default-background);\n",
       "}\n",
       "\n",
       "/* On hover, darken the color of the background */\n",
       "#sk-container-id-4 div.sk-label:hover label.sk-toggleable__label {\n",
       "  color: var(--sklearn-color-text);\n",
       "  background-color: var(--sklearn-color-unfitted-level-2);\n",
       "}\n",
       "\n",
       "/* Label box, darken color on hover, fitted */\n",
       "#sk-container-id-4 div.sk-label.fitted:hover label.sk-toggleable__label.fitted {\n",
       "  color: var(--sklearn-color-text);\n",
       "  background-color: var(--sklearn-color-fitted-level-2);\n",
       "}\n",
       "\n",
       "/* Estimator label */\n",
       "\n",
       "#sk-container-id-4 div.sk-label label {\n",
       "  font-family: monospace;\n",
       "  font-weight: bold;\n",
       "  display: inline-block;\n",
       "  line-height: 1.2em;\n",
       "}\n",
       "\n",
       "#sk-container-id-4 div.sk-label-container {\n",
       "  text-align: center;\n",
       "}\n",
       "\n",
       "/* Estimator-specific */\n",
       "#sk-container-id-4 div.sk-estimator {\n",
       "  font-family: monospace;\n",
       "  border: 1px dotted var(--sklearn-color-border-box);\n",
       "  border-radius: 0.25em;\n",
       "  box-sizing: border-box;\n",
       "  margin-bottom: 0.5em;\n",
       "  /* unfitted */\n",
       "  background-color: var(--sklearn-color-unfitted-level-0);\n",
       "}\n",
       "\n",
       "#sk-container-id-4 div.sk-estimator.fitted {\n",
       "  /* fitted */\n",
       "  background-color: var(--sklearn-color-fitted-level-0);\n",
       "}\n",
       "\n",
       "/* on hover */\n",
       "#sk-container-id-4 div.sk-estimator:hover {\n",
       "  /* unfitted */\n",
       "  background-color: var(--sklearn-color-unfitted-level-2);\n",
       "}\n",
       "\n",
       "#sk-container-id-4 div.sk-estimator.fitted:hover {\n",
       "  /* fitted */\n",
       "  background-color: var(--sklearn-color-fitted-level-2);\n",
       "}\n",
       "\n",
       "/* Specification for estimator info (e.g. \"i\" and \"?\") */\n",
       "\n",
       "/* Common style for \"i\" and \"?\" */\n",
       "\n",
       ".sk-estimator-doc-link,\n",
       "a:link.sk-estimator-doc-link,\n",
       "a:visited.sk-estimator-doc-link {\n",
       "  float: right;\n",
       "  font-size: smaller;\n",
       "  line-height: 1em;\n",
       "  font-family: monospace;\n",
       "  background-color: var(--sklearn-color-background);\n",
       "  border-radius: 1em;\n",
       "  height: 1em;\n",
       "  width: 1em;\n",
       "  text-decoration: none !important;\n",
       "  margin-left: 0.5em;\n",
       "  text-align: center;\n",
       "  /* unfitted */\n",
       "  border: var(--sklearn-color-unfitted-level-1) 1pt solid;\n",
       "  color: var(--sklearn-color-unfitted-level-1);\n",
       "}\n",
       "\n",
       ".sk-estimator-doc-link.fitted,\n",
       "a:link.sk-estimator-doc-link.fitted,\n",
       "a:visited.sk-estimator-doc-link.fitted {\n",
       "  /* fitted */\n",
       "  border: var(--sklearn-color-fitted-level-1) 1pt solid;\n",
       "  color: var(--sklearn-color-fitted-level-1);\n",
       "}\n",
       "\n",
       "/* On hover */\n",
       "div.sk-estimator:hover .sk-estimator-doc-link:hover,\n",
       ".sk-estimator-doc-link:hover,\n",
       "div.sk-label-container:hover .sk-estimator-doc-link:hover,\n",
       ".sk-estimator-doc-link:hover {\n",
       "  /* unfitted */\n",
       "  background-color: var(--sklearn-color-unfitted-level-3);\n",
       "  color: var(--sklearn-color-background);\n",
       "  text-decoration: none;\n",
       "}\n",
       "\n",
       "div.sk-estimator.fitted:hover .sk-estimator-doc-link.fitted:hover,\n",
       ".sk-estimator-doc-link.fitted:hover,\n",
       "div.sk-label-container:hover .sk-estimator-doc-link.fitted:hover,\n",
       ".sk-estimator-doc-link.fitted:hover {\n",
       "  /* fitted */\n",
       "  background-color: var(--sklearn-color-fitted-level-3);\n",
       "  color: var(--sklearn-color-background);\n",
       "  text-decoration: none;\n",
       "}\n",
       "\n",
       "/* Span, style for the box shown on hovering the info icon */\n",
       ".sk-estimator-doc-link span {\n",
       "  display: none;\n",
       "  z-index: 9999;\n",
       "  position: relative;\n",
       "  font-weight: normal;\n",
       "  right: .2ex;\n",
       "  padding: .5ex;\n",
       "  margin: .5ex;\n",
       "  width: min-content;\n",
       "  min-width: 20ex;\n",
       "  max-width: 50ex;\n",
       "  color: var(--sklearn-color-text);\n",
       "  box-shadow: 2pt 2pt 4pt #999;\n",
       "  /* unfitted */\n",
       "  background: var(--sklearn-color-unfitted-level-0);\n",
       "  border: .5pt solid var(--sklearn-color-unfitted-level-3);\n",
       "}\n",
       "\n",
       ".sk-estimator-doc-link.fitted span {\n",
       "  /* fitted */\n",
       "  background: var(--sklearn-color-fitted-level-0);\n",
       "  border: var(--sklearn-color-fitted-level-3);\n",
       "}\n",
       "\n",
       ".sk-estimator-doc-link:hover span {\n",
       "  display: block;\n",
       "}\n",
       "\n",
       "/* \"?\"-specific style due to the `<a>` HTML tag */\n",
       "\n",
       "#sk-container-id-4 a.estimator_doc_link {\n",
       "  float: right;\n",
       "  font-size: 1rem;\n",
       "  line-height: 1em;\n",
       "  font-family: monospace;\n",
       "  background-color: var(--sklearn-color-background);\n",
       "  border-radius: 1rem;\n",
       "  height: 1rem;\n",
       "  width: 1rem;\n",
       "  text-decoration: none;\n",
       "  /* unfitted */\n",
       "  color: var(--sklearn-color-unfitted-level-1);\n",
       "  border: var(--sklearn-color-unfitted-level-1) 1pt solid;\n",
       "}\n",
       "\n",
       "#sk-container-id-4 a.estimator_doc_link.fitted {\n",
       "  /* fitted */\n",
       "  border: var(--sklearn-color-fitted-level-1) 1pt solid;\n",
       "  color: var(--sklearn-color-fitted-level-1);\n",
       "}\n",
       "\n",
       "/* On hover */\n",
       "#sk-container-id-4 a.estimator_doc_link:hover {\n",
       "  /* unfitted */\n",
       "  background-color: var(--sklearn-color-unfitted-level-3);\n",
       "  color: var(--sklearn-color-background);\n",
       "  text-decoration: none;\n",
       "}\n",
       "\n",
       "#sk-container-id-4 a.estimator_doc_link.fitted:hover {\n",
       "  /* fitted */\n",
       "  background-color: var(--sklearn-color-fitted-level-3);\n",
       "}\n",
       "</style><div id=\"sk-container-id-4\" class=\"sk-top-container\"><div class=\"sk-text-repr-fallback\"><pre>LogisticRegression()</pre><b>In a Jupyter environment, please rerun this cell to show the HTML representation or trust the notebook. <br />On GitHub, the HTML representation is unable to render, please try loading this page with nbviewer.org.</b></div><div class=\"sk-container\" hidden><div class=\"sk-item\"><div class=\"sk-estimator fitted sk-toggleable\"><input class=\"sk-toggleable__control sk-hidden--visually\" id=\"sk-estimator-id-4\" type=\"checkbox\" checked><label for=\"sk-estimator-id-4\" class=\"sk-toggleable__label fitted sk-toggleable__label-arrow\"><div><div>LogisticRegression</div></div><div><a class=\"sk-estimator-doc-link fitted\" rel=\"noreferrer\" target=\"_blank\" href=\"https://scikit-learn.org/1.6/modules/generated/sklearn.linear_model.LogisticRegression.html\">?<span>Documentation for LogisticRegression</span></a><span class=\"sk-estimator-doc-link fitted\">i<span>Fitted</span></span></div></label><div class=\"sk-toggleable__content fitted\"><pre>LogisticRegression()</pre></div> </div></div></div></div>"
      ],
      "text/plain": [
       "LogisticRegression()"
      ]
     },
     "execution_count": 40,
     "metadata": {},
     "output_type": "execute_result"
    }
   ],
   "source": [
    "# 訓練データを元にした関係式のパラメータを推定（関係式を作成）\n",
    "clf_lr.fit(df_X_train_std, df_y_train)"
   ]
  },
  {
   "cell_type": "markdown",
   "metadata": {
    "id": "HlFZBN21_6pE"
   },
   "source": [
    "#### <font color=\"dodgerblue\">テストデータを用いた関係式の評価</font>\n",
    "\n",
    "作成した関係式（`clf_lr`）に対して，`predict`関数を用いることで予測クラスを出力します．<br>\n",
    "`predict`関数の引数にはテストデータ`df_X_test_std`を渡します．<br>\n",
    "`print`関数でその予測クラスを見てみましょう．<br>"
   ]
  },
  {
   "cell_type": "code",
   "execution_count": null,
   "metadata": {
    "colab": {
     "base_uri": "https://localhost:8080/"
    },
    "executionInfo": {
     "elapsed": 18,
     "status": "ok",
     "timestamp": 1749989383995,
     "user": {
      "displayName": "塚本育美",
      "userId": "08806102142129474594"
     },
     "user_tz": -540
    },
    "id": "iT1D9mvkeoeq",
    "outputId": "73bb281a-261d-4271-dd8d-6ac4493cebb1"
   },
   "outputs": [
    {
     "name": "stdout",
     "output_type": "stream",
     "text": [
      "[0 0 0 0 1 1 0 0 0 1 1 0 1 0 0 0 1 1 0 1 1 0 0 0 0 1 1 1 0 1 1 1 1 0 1 0 1\n",
      " 0 0 0 1 1 1 0 0 1 0 0 0 0 0 1 0 1 1 0 0 0 1 0 0 0 1 1 1 1 0 1 0 0 1 0 0 0\n",
      " 1 0 1 0 1 0 0 1 0 0 1 0 0 0 0 0 0 0 0 1 0 1 0 0 0 1 0 0 0 0 0 1 0 0 0 1 1\n",
      " 0 0 0 1 0 1 0 1 1 0 0 0 0 1 0 0 1 1 1 0 1 1 0 1 1 0 0 1 1 0 0 1 0 0 0 0 0\n",
      " 0 0 0 1 0 0 0 0 1 1 1 0 1 0 0 1 1 0 0 1 0 0 0 0 1 0 0 0 1 0 1 0 0 1 0 0 1\n",
      " 0 1 0 1 0 1 1 0 0 1 0 1 0 0 0 1 0 0 0 0 0 0 0 0 1 0 0 1 1 1 0 0 1 0 0 1 0\n",
      " 0 0 0 0 1 0 1 0 0 1 1 1 1 0 1 1 0 1 1 0 1 0 0 0 0 0 1 0 0 0 1 1 1 0 0 1 0\n",
      " 0 0 0 0 0 1 0 1 0 0 0 1 1 1 1 1 0 1 0 0 0 1 1 0 1 1 0 1 0 0 0 0 0 0 0 1 0\n",
      " 1 0 1 0]\n"
     ]
    }
   ],
   "source": [
    "# テストデータに対する予測クラスを出力\n",
    "df_y_test_pred = clf_lr.predict(df_X_test_std)\n",
    "print(df_y_test_pred)"
   ]
  },
  {
   "cell_type": "markdown",
   "metadata": {
    "id": "m0hxlQq3tDx3"
   },
   "source": [
    "`accuracy_score`関数に予測クラス`df_y_test_pred`と正解クラス`df_y_test`を渡すことで正解率を計算します．<br>\n",
    "\n",
    "※<font color=\"red\">引数には，正解クラス`df_y_test`，予測クラス`df_y_test_pred`の順で渡します．</font><br>"
   ]
  },
  {
   "cell_type": "code",
   "execution_count": null,
   "metadata": {
    "colab": {
     "base_uri": "https://localhost:8080/"
    },
    "executionInfo": {
     "elapsed": 25,
     "status": "ok",
     "timestamp": 1749989394493,
     "user": {
      "displayName": "塚本育美",
      "userId": "08806102142129474594"
     },
     "user_tz": -540
    },
    "id": "_tl9liqMe2Li",
    "outputId": "e098da4d-8b54-43b5-9a7d-636c47639418"
   },
   "outputs": [
    {
     "name": "stdout",
     "output_type": "stream",
     "text": [
      "正解率　= 0.71\n"
     ]
    }
   ],
   "source": [
    "# 予測クラスと正解クラスから正解率を計算\n",
    "ac_score = accuracy_score(df_y_test, df_y_test_pred)\n",
    "print('正解率　= %.2f' %(ac_score))"
   ]
  },
  {
   "cell_type": "markdown",
   "metadata": {
    "id": "zc-99Ygj2sWL"
   },
   "source": [
    "`正解率　= 0.71`（71%）と表示されていればOKです．"
   ]
  },
  {
   "cell_type": "markdown",
   "metadata": {
    "id": "8yz2c52Jfcez"
   },
   "source": [
    "#### <font color=\"dodgerblue\">未知データの予測</font>\n",
    "\n",
    "作成した関係式を用いて，未知のデータを予測してみましょう（未知のデータはFisher，SVMの時と同様です）．<br>\n",
    "まずは，未知データのデータフレームを作成します．<br>\n",
    "各カテゴリには以下の数値を入力しましょう．<br>\n",
    "\n",
    "- `Age`: `33`\n",
    "- `AnnualIncome`: `1500000`\n",
    "- `FamilyMembers`: `4`\n",
    "- `ChronicDiseases`: `0`\n",
    "- `GraduateOrNot_Yes`: `1`\n",
    "- `FrequentFlyer_Yes`: `1`\n",
    "- `EverTravelledAbroad_Yes`: `1`"
   ]
  },
  {
   "cell_type": "code",
   "execution_count": null,
   "metadata": {
    "id": "ppkYOdxKGuLk"
   },
   "outputs": [],
   "source": [
    "# 未知データの作成（Age, AnnualIncome, FamilyMembers, ChronicDiseases, GraduateOrNot_Yes, FrequentFlyer_Yes, EverTravelledAbroad_Yes）\n",
    "df_X_newdata = pd.DataFrame(\n",
    "    data={'Age': [33],\n",
    "          'AnnualIncome':[1500000],\n",
    "          'FamilyMembers':[4],\n",
    "          'ChronicDiseases':[0],\n",
    "          'GraduateOrNot_Yes':[1],\n",
    "          'FrequentFlyer_Yes':[1],\n",
    "          'EverTravelledAbroad_Yes':[1]}\n",
    ")"
   ]
  },
  {
   "cell_type": "markdown",
   "metadata": {
    "id": "ArqW3ASIJrAv"
   },
   "source": [
    "説明変数の訓練データの平均値と標準偏差を用いて未知データを標準化します．<br>\n",
    "標準化には`transform`関数を使用し，引数には未知データを渡します．"
   ]
  },
  {
   "cell_type": "code",
   "execution_count": null,
   "metadata": {
    "id": "u1af9covf24t"
   },
   "outputs": [],
   "source": [
    "# scの情報（説明変数の訓練データの平均値と標準偏差）を用いて未知データを標準化\n",
    "df_X_newdata_std = sc.transform(df_X_newdata)"
   ]
  },
  {
   "cell_type": "markdown",
   "metadata": {
    "id": "PzauTl_sf-SD"
   },
   "source": [
    "作成した関係式（`clf_lr`）に対して，`predict`関数を用いることで分類の予測クラスを出力します．<br>\n",
    "また，`clf_lr`に`predict_proba`関数を用いることで未知データが各クラスに属する確率の推定値を出力します．<br>\n",
    "`predict`関数と`predict_proba`関数の引数にはテストデータ`df_X_newdata_std`を渡します．<br>\n",
    "結果は`print`関数を使用して表示させてみましょう．<br>"
   ]
  },
  {
   "cell_type": "code",
   "execution_count": null,
   "metadata": {
    "colab": {
     "base_uri": "https://localhost:8080/"
    },
    "executionInfo": {
     "elapsed": 23,
     "status": "ok",
     "timestamp": 1749989427739,
     "user": {
      "displayName": "塚本育美",
      "userId": "08806102142129474594"
     },
     "user_tz": -540
    },
    "id": "TbuvrqAigONe",
    "outputId": "cf2cbcb4-f5e2-4d40-e27d-5156125e27f6"
   },
   "outputs": [
    {
     "name": "stdout",
     "output_type": "stream",
     "text": [
      "ロジスティック回帰\n",
      "予測 [1]\n",
      "確率 [[0.0733246 0.9266754]]\n"
     ]
    }
   ],
   "source": [
    "print('ロジスティック回帰')\n",
    "print('予測', clf_lr.predict(df_X_newdata_std)) # 未知データの分類予測クラス\n",
    "print('確率', clf_lr.predict_proba(df_X_newdata_std)) # 未知データが各クラスに属する確率の推定値"
   ]
  }
 ],
 "metadata": {
  "colab": {
   "authorship_tag": "ABX9TyNzVhksto/ia69sF3JwOb11",
   "provenance": [],
   "toc_visible": true
  },
  "kernelspec": {
   "display_name": "Python 3",
   "name": "python3"
  },
  "language_info": {
   "name": "python"
  }
 },
 "nbformat": 4,
 "nbformat_minor": 0
}
