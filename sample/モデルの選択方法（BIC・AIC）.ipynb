{
 "cells": [
  {
   "cell_type": "markdown",
   "metadata": {},
   "source": [
    " ## モデルの選択方法（BIC・AIC）"
   ]
  },
  {
   "cell_type": "markdown",
   "metadata": {
    "id": "1hH___CZfydI"
   },
   "source": [
    "## セットアップ"
   ]
  },
  {
   "cell_type": "code",
   "execution_count": null,
   "metadata": {
    "id": "fHvYyoGeeo76"
   },
   "outputs": [],
   "source": [
    "# 基本的なライブラリ群\n",
    "import numpy as np\n",
    "import pandas as pd\n",
    "import matplotlib.pyplot as plt\n",
    "%matplotlib inline\n",
    "\n",
    "# statsmodels.formula.apiをsmfとしてインポートしましょう．\n",
    "import statsmodels.formula.api as smf\n",
    "\n",
    "\n",
    "# scikit-learn.linear_modelのLinearRegressionをインポートする\n",
    "from sklearn.linear_model import LinearRegression\n",
    "\n",
    "# dmbaからstepwise_selection, forward_selection, backward_eliminationをインポートする\n",
    "from dmba import stepwise_selection, forward_selection, backward_elimination"
   ]
  },
  {
   "cell_type": "code",
   "execution_count": null,
   "metadata": {
    "id": "x3PZTGdyfuoG"
   },
   "outputs": [],
   "source": [
    "# Google driveをマウント\n",
    "from google.colab import drive\n",
    "drive.mount('/content/drive')\n",
    "\n",
    "# 作業ディレクトリの移動\n",
    "%cd /content/drive/MyDrive/WASEDADS/04/\n",
    "\n",
    "# 作業ディレクトリにあるファイル名を表示\n",
    "%ls"
   ]
  },
  {
   "cell_type": "code",
   "execution_count": null,
   "metadata": {
    "id": "iVxnqJVTfxz-"
   },
   "outputs": [],
   "source": [
    "# データの読み込み\n",
    "# pandasのメソッドread_excelを使って4-1_WorkData_Wine.xlsxを読み込み，dfという変数に代入しましょう\n",
    "df = pd.read_excel('4-1_WorkData_Wine.xlsx', index_col=0)\n",
    "df.head()\n",
    "# df.info()"
   ]
  },
  {
   "cell_type": "markdown",
   "metadata": {
    "id": "3aukFX66fwHH"
   },
   "source": [
    "## statsmodelsを使ったモデル選択（AIC・BIC）"
   ]
  },
  {
   "cell_type": "code",
   "execution_count": null,
   "metadata": {
    "id": "15s_Xwbrf-G5"
   },
   "outputs": [],
   "source": [
    "from itertools import combinations\n",
    "from statsmodels.stats.outliers_influence import variance_inflation_factor\n",
    "\n",
    "# 多重共線性のチェックを行う関数\n",
    "def check_vif(df, variable_list, threshold=10):\n",
    "    # 説明変数データと定数項を準備\n",
    "    df_X = df[variable_list].copy()\n",
    "    df_X['Intercept'] = 1\n",
    "\n",
    "    # VIF計算\n",
    "    vif_df = pd.DataFrame()\n",
    "    vif_df['variables_x'] = df_X.columns\n",
    "    vif_df['VIF_Factor'] = [variance_inflation_factor(df_X.values, i) for i in range(len(df_X.columns))]\n",
    "\n",
    "    # 出力（切片を除外して表示）\n",
    "    print(\"\\n▶ 各変数のVIF：\")\n",
    "    print(vif_df[vif_df['variables_x'] != 'Intercept'])\n",
    "\n",
    "    # VIFがthresholdを超える変数の表示\n",
    "    high_vif = vif_df[(vif_df['VIF_Factor'] > threshold) & (vif_df['variables_x'] != 'Intercept')]\n",
    "\n",
    "    print(f\"\\n▶ VIFが {threshold} を超える変数（多重共線性の可能性あり）：\")\n",
    "    if not high_vif.empty:\n",
    "        print(high_vif)\n",
    "    else:\n",
    "        print(f\"特にありません（すべてのVIF ≦ {threshold}）\")\n",
    "\n",
    "    return vif_df\n",
    "\n",
    "# すべての説明変数の組み合わせを取得する関数\n",
    "def get_combinations(array):\n",
    "  all_combinations = []\n",
    "  for r in range(0, len(variables_x) + 1):  # ←ここを0からに変更\n",
    "      combos = list(combinations(variables_x, r))\n",
    "      all_combinations.extend(combos)\n",
    "\n",
    "  return all_combinations\n",
    "\n",
    "# 全ての関係式を取得する関数\n",
    "def get_formulas(array, y_state):\n",
    "  x_combinations = get_combinations(array)\n",
    "  lr_formula1s = []\n",
    "  for combo in x_combinations:\n",
    "    if len(combo) == 0:\n",
    "      formula = f\"{y_state} ~ 1\"  # 切片のみのモデル\n",
    "    else:\n",
    "      formula = f\"{y_state} ~ {' + '.join(combo)}\"\n",
    "    lr_formula1s.append(formula)\n",
    "  return lr_formula1s\n",
    "\n",
    "# 全ての関係式について、AICまたはBICを求める関数\n",
    "def calc_aic_or_bic(lr_formulas, df, criterion):\n",
    "  results = []\n",
    "  for count, lr_formula in enumerate(lr_formulas):\n",
    "      result = smf.ols(lr_formula, df).fit()\n",
    "\n",
    "      if criterion == 'AIC':\n",
    "          score = result.aic\n",
    "          results.append((lr_formula, score))\n",
    "      elif criterion == 'BIC':\n",
    "          score = result.bic\n",
    "          results.append((lr_formula, score))\n",
    "      else:\n",
    "          print(\"評価基準を確認してください\")\n",
    "  return results\n",
    "\n",
    "\n",
    "############################ 以下分析の実行コード##################################\n",
    "\n",
    "print(\"============= 多重共線性のチェック ================\")\n",
    "variables_x = ['citric_acid', 'residual_sugar', 'chlorides', 'total_sulfur_dioxide', 'alcohol']\n",
    "vif_df = check_vif(df, variables_x)\n",
    "\n",
    "print(\"===============================================\\n\")\n",
    "\n",
    "\n",
    "print(\"目的：構造推定「品質評価がワインの成分からどのように決まるかを調べる」\")\n",
    "\n",
    "criterion = 'BIC' #'AIC', 'BIC'\n",
    "print(\"評価基準：\",criterion)\n",
    "\n",
    "variables_x = ['citric_acid', 'residual_sugar', 'chlorides', 'total_sulfur_dioxide', 'alcohol']\n",
    "\n",
    "lr_formulas = get_formulas(variables_x, 'quality')\n",
    "print(lr_formulas)\n",
    "results = calc_aic_or_bic(lr_formulas, df, criterion)\n",
    "# スコアで昇順にソートして上位N件を表示\n",
    "N = 5\n",
    "sorted_results = sorted(results, key=lambda x: x[1])\n",
    "print(f\"\\n{criterion} が小さい順の上位 {N} 件：\")\n",
    "for rank, (formula, score) in enumerate(sorted_results[:N], 1):\n",
    "    print(f\"{rank}. {criterion} = {score:.3f}: 「{formula}」\")\n",
    "\n",
    "print(f\"\\n評価基準を{criterion}とした際に最適な関係式：\")\n",
    "print(sorted_results[0][0])"
   ]
  },
  {
   "cell_type": "code",
   "execution_count": null,
   "metadata": {
    "id": "mCEUSdi3gBSN"
   },
   "outputs": [],
   "source": [
    "print(\"============= 多重共線性のチェック ================\")\n",
    "variables_x = ['cylinders', 'displacement', 'horsepower', 'weight', 'acceleration', 'year']\n",
    "vif_df = check_vif(df, variables_x)\n",
    "print(\"===============================================\\n\")\n",
    "print(\"'cylinders', 'displacement', 'weight'を除いて再度チェック\")\n",
    "variables_x = ['horsepower', 'acceleration', 'year']\n",
    "vif_df = check_vif(df, variables_x)\n",
    "print(\"===============================================\\n\")\n",
    "\n",
    "\n",
    "\n",
    "print(\"目的：予測「車種の情報から燃費性能を予測する」\")\n",
    "\n",
    "criterion = 'AIC' #'AIC', 'BIC'\n",
    "print(\"評価基準：\",criterion)\n",
    "\n",
    "# 多重共線性の強い説明変数を除いた中で最適な組み合わせを見つける\n",
    "variables_x = ['horsepower', 'acceleration', 'year']\n",
    "\n",
    "lr_formulas = get_formulas(variables_x, 'mpg')\n",
    "results = calc_aic_or_bic(lr_formulas, df, criterion)\n",
    "\n",
    "# スコアで昇順にソートして上位N件を表示\n",
    "N = 5\n",
    "sorted_results = sorted(results, key=lambda x: x[1])\n",
    "print(f\"\\n{criterion} が小さい順の上位 {N} 件：\")\n",
    "for rank, (formula, score) in enumerate(sorted_results[:N], 1):\n",
    "    print(f\"{rank}. {criterion} = {score:.3f}: 「{formula}」\")\n",
    "\n",
    "print(f\"\\n評価基準を{criterion}とした際に最適な関係式：\")\n",
    "print(sorted_results[0][0])"
   ]
  },
  {
   "cell_type": "markdown",
   "metadata": {
    "id": "zlSp7ibygJg9"
   },
   "source": [
    "## 変数選択法によるモデル選択"
   ]
  },
  {
   "cell_type": "code",
   "execution_count": null,
   "metadata": {
    "id": "8a8epKKzgWsO"
   },
   "outputs": [],
   "source": [
    "# 1.関係式の推定を行う自作関数\n",
    "def lr_fit(variables_x):\n",
    "    # 説明変数がない(0)場合は，実行せずに終了\n",
    "    if len(variables_x) == 0:\n",
    "        return None\n",
    "\n",
    "    # 関係式の推定\n",
    "    reg_linear = LinearRegression()\n",
    "    reg_linear.fit(df_X[variables_x], df_Y)\n",
    "    return reg_linear\n",
    "\n",
    "# 2.推定を行った関係式から評価基準の値を算出する自作関数\n",
    "def lr_score(reg_linear, variables_x):\n",
    "    if len(variables_x) == 0:\n",
    "      # すべての要素（データ数）がdf_Yの平均値となる配列を作成\n",
    "      y_pred = [df_Y.mean()] * len(df_Y)\n",
    "    else:\n",
    "      # 推定した関係式からデータ（df_X）に対するyの予測値を取得\n",
    "      y_pred = reg_linear.predict(df_X[variables_x])\n",
    "\n",
    "    # データ数\n",
    "    n = len(y_pred)\n",
    "    # 説明変数の数\n",
    "    k_params = len(variables_x)\n",
    "    # 残差平方和をデータ数で割った値\n",
    "    sigma2 = np.sum((df_Y - y_pred) ** 2) / n\n",
    "    # 最大対数尤度\n",
    "    logL = -n / 2 * (np.log(2 * np.pi * sigma2) + 1)\n",
    "\n",
    "    # 評価基準値の算出\n",
    "    if criterion == 'AIC':\n",
    "        aic = -2 * logL + 2 * (k_params + 1)\n",
    "        return aic\n",
    "    elif criterion == 'BIC':\n",
    "        bic = -2 * logL + (k_params + 1) * np.log(n)\n",
    "        return bic\n",
    "    else:\n",
    "        print('評価基準を確認してください')"
   ]
  },
  {
   "cell_type": "code",
   "execution_count": null,
   "metadata": {
    "id": "NaSFMgDBgXP3"
   },
   "outputs": [],
   "source": [
    "print('-----変数増減法-----')\n",
    "best_model, best_variables = stepwise_selection(variables_x, lr_fit, lr_score,verbose=True)\n",
    "print('Intercept:',best_model.intercept_)\n",
    "print('Coefficients: ', best_model.coef_)\n",
    "print('best_variables: ', best_variables)"
   ]
  },
  {
   "cell_type": "code",
   "execution_count": null,
   "metadata": {
    "id": "Fz50bZVugZcI"
   },
   "outputs": [],
   "source": [
    "print('-----変数増加法-----')\n",
    "best_model, best_variables = forward_selection(variables_x, lr_fit, lr_score,verbose=True)\n",
    "print('Intercept:',best_model.intercept_)\n",
    "print('Coefficients: ', best_model.coef_)\n",
    "print('best_variables: ', best_variables)"
   ]
  },
  {
   "cell_type": "code",
   "execution_count": null,
   "metadata": {
    "id": "hfDN-OlLgboo"
   },
   "outputs": [],
   "source": [
    "print('-----変数減少法-----')\n",
    "best_model, best_variables = backward_elimination(variables_x, lr_fit, lr_score,verbose=True)\n",
    "print('Intercept:',best_model.intercept_)\n",
    "print('Coefficients: ', best_model.coef_)\n",
    "print('best_variables: ', best_variables)"
   ]
  }
 ],
 "metadata": {
  "colab": {
   "authorship_tag": "ABX9TyMX+o9nSeSGr9ewD+2q54Hi",
   "provenance": []
  },
  "kernelspec": {
   "display_name": "Python 3",
   "name": "python3"
  },
  "language_info": {
   "name": "python"
  }
 },
 "nbformat": 4,
 "nbformat_minor": 0
}
